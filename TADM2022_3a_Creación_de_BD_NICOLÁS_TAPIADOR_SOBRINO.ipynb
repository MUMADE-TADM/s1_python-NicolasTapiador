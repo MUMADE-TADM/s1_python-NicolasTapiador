{
  "nbformat": 4,
  "nbformat_minor": 0,
  "metadata": {
    "colab": {
      "provenance": [],
      "toc_visible": true,
      "include_colab_link": true
    },
    "kernelspec": {
      "name": "python3",
      "display_name": "Python 3"
    }
  },
  "cells": [
    {
      "cell_type": "markdown",
      "metadata": {
        "id": "view-in-github",
        "colab_type": "text"
      },
      "source": [
        "<a href=\"https://colab.research.google.com/github/MUMADE-TADM/s1_python-NicolasTapiador/blob/main/TADM2022_3a_Creaci%C3%B3n_de_BD_NICOL%C3%81S_TAPIADOR_SOBRINO.ipynb\" target=\"_parent\"><img src=\"https://colab.research.google.com/assets/colab-badge.svg\" alt=\"Open In Colab\"/></a>"
      ]
    },
    {
      "cell_type": "markdown",
      "source": [
        "[Guia al Conjunto de Datos](https://sorry.vse.cz/~berka/challenge/pkdd1999/berka.htm)\n",
        "\n",
        "[Extracto del Diseño](https://dbdesigner.page.link/7iRemaQAUMsbFb2o7)\n"
      ],
      "metadata": {
        "id": "6qBI7QH6kMWJ"
      }
    },
    {
      "cell_type": "markdown",
      "source": [
        "Estudiante: `....`"
      ],
      "metadata": {
        "id": "0fjaTZ-wLcLj"
      }
    },
    {
      "cell_type": "markdown",
      "metadata": {
        "id": "ovfBigxLcvig"
      },
      "source": [
        "# Creación de la Base de Datos"
      ]
    },
    {
      "cell_type": "markdown",
      "source": [
        "Importamos las librerías Python que vamos a utilizar para acceder a las bases\n",
        "de datos."
      ],
      "metadata": {
        "id": "LQkOt_9QjwCh"
      }
    },
    {
      "cell_type": "code",
      "source": [
        "import pandas as pd\n",
        "import sqlite3 as sql\n",
        "import codecs"
      ],
      "metadata": {
        "id": "zExX0mW1hZhL"
      },
      "execution_count": null,
      "outputs": []
    },
    {
      "cell_type": "markdown",
      "metadata": {
        "id": "4XrKj-bXcEEP"
      },
      "source": [
        "\n",
        "Vamos a crear nuestra base de datos. \n",
        "\n",
        "SQLite se maneja a nivel de fichero, si este no exite entonces de crea. En Colab siempre de forma no permanente. \n",
        "\n",
        "Para manejar este fichero manejaremos el objeto de **conexión** a la base de datos.  \n",
        "\n",
        ">Una **conexión** a base de datos es la forma que un servidor de base de datos y su software cliente se comunican entre sí. \n",
        "\n",
        ">El cliente utiliza una conexión a base de datos para enviar comando y recibir respuestas del servidor\n",
        "\n"
      ]
    },
    {
      "cell_type": "code",
      "metadata": {
        "id": "QbjC_7xCcDof",
        "colab": {
          "base_uri": "https://localhost:8080/"
        },
        "outputId": "383aa2f9-ae5b-4afd-fcf5-86586c6b8544"
      },
      "source": [
        "dbfile = \"data_berka.db\"\n",
        "\n",
        "con = sql.connect(dbfile)\n",
        "con"
      ],
      "execution_count": null,
      "outputs": [
        {
          "output_type": "execute_result",
          "data": {
            "text/plain": [
              "<sqlite3.Connection at 0x7f62b793aab0>"
            ]
          },
          "metadata": {},
          "execution_count": 3
        }
      ]
    },
    {
      "cell_type": "markdown",
      "source": [
        "Lo siguiente vamos a crear una **tabla** de las que tenemos. Normalmente crearemos aquella que no contiene claves ajenas como district. \n",
        "\n",
        "Para ello con la sentencia CREATE identificamos los atributos que va a tener la tabla.\n",
        "\n",
        "```\n",
        "CREATE TABLE <nombre_tabla> (\n",
        "  <nombre_campo> <tipo campo> <primary key, not null, etc.>,\n",
        "  ...\n",
        "  FOREIGN KEY (<nombre_campo_fk) \n",
        "     REFERENCES <nombre_tabla_referencia> (<nombre_pk_tabla_referencia>)\n",
        ")\n",
        "```\n",
        "Los tipos de datos que se manejan en SQLite se pueden consultar en [SQLite Data Types](https://www.sqlite.org/datatype3.html)"
      ],
      "metadata": {
        "id": "61xVBg3cjs5q"
      }
    },
    {
      "cell_type": "markdown",
      "metadata": {
        "id": "LwJu3GpZciXE"
      },
      "source": [
        "## Cargar tabla district\n",
        "\n",
        "\n",
        "\n",
        "\n",
        "\n",
        "\n",
        "\n",
        "\n"
      ]
    },
    {
      "cell_type": "markdown",
      "source": [
        "Cargamos los datos de nuestra fuente de datos\n"
      ],
      "metadata": {
        "id": "nb3g_SrpkJkU"
      }
    },
    {
      "cell_type": "code",
      "metadata": {
        "colab": {
          "base_uri": "https://localhost:8080/"
        },
        "id": "4VXwQu4oXQ9L",
        "outputId": "7e1fb987-a211-4ac3-bb1f-848e208df781"
      },
      "source": [
        "!wget https://raw.githubusercontent.com/zhouxu-ds/loan-default-prediction/main/data/district.asc"
      ],
      "execution_count": null,
      "outputs": [
        {
          "output_type": "stream",
          "name": "stdout",
          "text": [
            "--2022-11-28 20:51:58--  https://raw.githubusercontent.com/zhouxu-ds/loan-default-prediction/main/data/district.asc\n",
            "Resolving raw.githubusercontent.com (raw.githubusercontent.com)... 185.199.108.133, 185.199.109.133, 185.199.110.133, ...\n",
            "Connecting to raw.githubusercontent.com (raw.githubusercontent.com)|185.199.108.133|:443... connected.\n",
            "HTTP request sent, awaiting response... 200 OK\n",
            "Length: 6574 (6.4K) [text/plain]\n",
            "Saving to: ‘district.asc’\n",
            "\n",
            "\rdistrict.asc          0%[                    ]       0  --.-KB/s               \rdistrict.asc        100%[===================>]   6.42K  --.-KB/s    in 0s      \n",
            "\n",
            "2022-11-28 20:51:58 (76.9 MB/s) - ‘district.asc’ saved [6574/6574]\n",
            "\n"
          ]
        }
      ]
    },
    {
      "cell_type": "markdown",
      "source": [
        "Para crear la tabla ejecutaremos execute y la sentencia CREATE correspondiente"
      ],
      "metadata": {
        "id": "BUabGjhP21jJ"
      }
    },
    {
      "cell_type": "code",
      "metadata": {
        "id": "VACq0XGqc31e",
        "colab": {
          "base_uri": "https://localhost:8080/"
        },
        "outputId": "1284e979-cddb-4e85-bd5a-9f6c63b2e43c"
      },
      "source": [
        "con.execute('CREATE TABLE DISTRICT (A1 INT PRIMARY KEY, A2 TEXT, A3 TEXT, A4 INT,A5 INT, A6 INT,' + \n",
        "  'A7 INT, A8 INT, A9 INT, A10 REAL, A11 INT, A12 REAL, A13 REAL, A14 INT, A15 INT, A16 INT)')\n"
      ],
      "execution_count": null,
      "outputs": [
        {
          "output_type": "execute_result",
          "data": {
            "text/plain": [
              "<sqlite3.Cursor at 0x7f62b7885880>"
            ]
          },
          "metadata": {},
          "execution_count": 5
        }
      ]
    },
    {
      "cell_type": "markdown",
      "metadata": {
        "id": "dh21CGsUe0jq"
      },
      "source": [
        "\n",
        "Finalmente \"guardaremos los cambios\" con **commit**\n",
        "\n",
        "> Una sentencia **COMMIT** en SQL finaliza una transacción de base de datos dentro de un sistema gestor de base de datos relacional (RDBMS) y hace visibles todos los cambios a otros usuario"
      ]
    },
    {
      "cell_type": "code",
      "metadata": {
        "id": "2gz-qizwew8o"
      },
      "source": [
        "con.commit()"
      ],
      "execution_count": null,
      "outputs": []
    },
    {
      "cell_type": "markdown",
      "metadata": {
        "id": "oti79UXjXq6L"
      },
      "source": [
        "Cualquier ejecución de una sentencia SQL sobre la base de datos nos crea un cursor el cual utilizaremos sobre todo para las consultas \n",
        "\n",
        "> Cursor se refiere a una estructura de control utilizada para el recorrido (y potencial procesamiento) de los registros del resultado de una consulta."
      ]
    },
    {
      "cell_type": "code",
      "metadata": {
        "id": "igF0i-YjfAxK",
        "colab": {
          "base_uri": "https://localhost:8080/"
        },
        "outputId": "f458c035-93c3-4af2-e6e5-f61941a549ed"
      },
      "source": [
        "cursor = con.execute(\"SELECT name FROM sqlite_master WHERE type='table';\")\n",
        "tables = [\n",
        "     v[0] for v in cursor.fetchall()\n",
        "     if v[0] != \"sqlite_sequence\"\n",
        "]\n",
        "cursor.close()\n",
        "tables"
      ],
      "execution_count": null,
      "outputs": [
        {
          "output_type": "execute_result",
          "data": {
            "text/plain": [
              "['DISTRICT']"
            ]
          },
          "metadata": {},
          "execution_count": 7
        }
      ]
    },
    {
      "cell_type": "markdown",
      "metadata": {
        "id": "Ubust44pf0dA"
      },
      "source": [
        "3. Cargamos los datos de la tabla\n"
      ]
    },
    {
      "cell_type": "markdown",
      "metadata": {
        "id": "1vPCOkfiYbsT"
      },
      "source": [
        "En este caso lo vamos a hacer mediante la utilización de una librería de Python como es PANDAS"
      ]
    },
    {
      "cell_type": "code",
      "metadata": {
        "id": "GOYd1TUcWhcD"
      },
      "source": [
        "pd.read_csv('district.asc', sep = \";\" ).to_sql('DISTRICT', con, if_exists='append', index = False)"
      ],
      "execution_count": null,
      "outputs": []
    },
    {
      "cell_type": "markdown",
      "metadata": {
        "id": "SKrvkCc1gLOd"
      },
      "source": [
        "4. Vamos a consultar los datos que tiene esta tabla que acabamos de cargar"
      ]
    },
    {
      "cell_type": "code",
      "metadata": {
        "id": "ht2WOANbwKnD",
        "colab": {
          "base_uri": "https://localhost:8080/",
          "height": 433
        },
        "outputId": "9f79e373-571a-4c3e-b73d-f511216c028e"
      },
      "source": [
        "pd.read_sql_query(\"SELECT * FROM DISTRICT\", con)"
      ],
      "execution_count": null,
      "outputs": [
        {
          "output_type": "execute_result",
          "data": {
            "text/plain": [
              "    A1               A2               A3       A4  A5  A6  A7  A8  A9    A10  \\\n",
              "0    1      Hl.m. Praha           Prague  1204953   0   0   0   1   1  100.0   \n",
              "1    2          Benesov  central Bohemia    88884  80  26   6   2   5   46.7   \n",
              "2    3           Beroun  central Bohemia    75232  55  26   4   1   5   41.7   \n",
              "3    4           Kladno  central Bohemia   149893  63  29   6   2   6   67.4   \n",
              "4    5            Kolin  central Bohemia    95616  65  30   4   1   6   51.4   \n",
              "..  ..              ...              ...      ...  ..  ..  ..  ..  ..    ...   \n",
              "72  73            Opava    north Moravia   182027  17  49  12   2   7   56.4   \n",
              "73  74  Ostrava - mesto    north Moravia   323870   0   0   0   1   1  100.0   \n",
              "74  75           Prerov    north Moravia   138032  67  30   4   2   5   64.6   \n",
              "75  76          Sumperk    north Moravia   127369  31  32  13   2   7   51.2   \n",
              "76  77           Vsetin    north Moravia   148545   8  35  12   3   4   53.5   \n",
              "\n",
              "      A11   A12   A13  A14    A15    A16  \n",
              "0   12541  0.29  0.43  167  85677  99107  \n",
              "1    8507  1.67  1.85  132   2159   2674  \n",
              "2    8980  1.95  2.21  111   2824   2813  \n",
              "3    9753  4.64  5.05  109   5244   5892  \n",
              "4    9307  3.85  4.43  118   2616   3040  \n",
              "..    ...   ...   ...  ...    ...    ...  \n",
              "72   8746  3.33  3.74   90   4355   4433  \n",
              "73  10673  4.75  5.44  100  18782  18347  \n",
              "74   8819  5.38  5.66   99   4063   4505  \n",
              "75   8369  4.73  5.88  107   3736   2807  \n",
              "76   8909  4.01  5.56  113   3460   3590  \n",
              "\n",
              "[77 rows x 16 columns]"
            ],
            "text/html": [
              "\n",
              "  <div id=\"df-8c7afae0-0b5c-4b32-835d-625ca64afc22\">\n",
              "    <div class=\"colab-df-container\">\n",
              "      <div>\n",
              "<style scoped>\n",
              "    .dataframe tbody tr th:only-of-type {\n",
              "        vertical-align: middle;\n",
              "    }\n",
              "\n",
              "    .dataframe tbody tr th {\n",
              "        vertical-align: top;\n",
              "    }\n",
              "\n",
              "    .dataframe thead th {\n",
              "        text-align: right;\n",
              "    }\n",
              "</style>\n",
              "<table border=\"1\" class=\"dataframe\">\n",
              "  <thead>\n",
              "    <tr style=\"text-align: right;\">\n",
              "      <th></th>\n",
              "      <th>A1</th>\n",
              "      <th>A2</th>\n",
              "      <th>A3</th>\n",
              "      <th>A4</th>\n",
              "      <th>A5</th>\n",
              "      <th>A6</th>\n",
              "      <th>A7</th>\n",
              "      <th>A8</th>\n",
              "      <th>A9</th>\n",
              "      <th>A10</th>\n",
              "      <th>A11</th>\n",
              "      <th>A12</th>\n",
              "      <th>A13</th>\n",
              "      <th>A14</th>\n",
              "      <th>A15</th>\n",
              "      <th>A16</th>\n",
              "    </tr>\n",
              "  </thead>\n",
              "  <tbody>\n",
              "    <tr>\n",
              "      <th>0</th>\n",
              "      <td>1</td>\n",
              "      <td>Hl.m. Praha</td>\n",
              "      <td>Prague</td>\n",
              "      <td>1204953</td>\n",
              "      <td>0</td>\n",
              "      <td>0</td>\n",
              "      <td>0</td>\n",
              "      <td>1</td>\n",
              "      <td>1</td>\n",
              "      <td>100.0</td>\n",
              "      <td>12541</td>\n",
              "      <td>0.29</td>\n",
              "      <td>0.43</td>\n",
              "      <td>167</td>\n",
              "      <td>85677</td>\n",
              "      <td>99107</td>\n",
              "    </tr>\n",
              "    <tr>\n",
              "      <th>1</th>\n",
              "      <td>2</td>\n",
              "      <td>Benesov</td>\n",
              "      <td>central Bohemia</td>\n",
              "      <td>88884</td>\n",
              "      <td>80</td>\n",
              "      <td>26</td>\n",
              "      <td>6</td>\n",
              "      <td>2</td>\n",
              "      <td>5</td>\n",
              "      <td>46.7</td>\n",
              "      <td>8507</td>\n",
              "      <td>1.67</td>\n",
              "      <td>1.85</td>\n",
              "      <td>132</td>\n",
              "      <td>2159</td>\n",
              "      <td>2674</td>\n",
              "    </tr>\n",
              "    <tr>\n",
              "      <th>2</th>\n",
              "      <td>3</td>\n",
              "      <td>Beroun</td>\n",
              "      <td>central Bohemia</td>\n",
              "      <td>75232</td>\n",
              "      <td>55</td>\n",
              "      <td>26</td>\n",
              "      <td>4</td>\n",
              "      <td>1</td>\n",
              "      <td>5</td>\n",
              "      <td>41.7</td>\n",
              "      <td>8980</td>\n",
              "      <td>1.95</td>\n",
              "      <td>2.21</td>\n",
              "      <td>111</td>\n",
              "      <td>2824</td>\n",
              "      <td>2813</td>\n",
              "    </tr>\n",
              "    <tr>\n",
              "      <th>3</th>\n",
              "      <td>4</td>\n",
              "      <td>Kladno</td>\n",
              "      <td>central Bohemia</td>\n",
              "      <td>149893</td>\n",
              "      <td>63</td>\n",
              "      <td>29</td>\n",
              "      <td>6</td>\n",
              "      <td>2</td>\n",
              "      <td>6</td>\n",
              "      <td>67.4</td>\n",
              "      <td>9753</td>\n",
              "      <td>4.64</td>\n",
              "      <td>5.05</td>\n",
              "      <td>109</td>\n",
              "      <td>5244</td>\n",
              "      <td>5892</td>\n",
              "    </tr>\n",
              "    <tr>\n",
              "      <th>4</th>\n",
              "      <td>5</td>\n",
              "      <td>Kolin</td>\n",
              "      <td>central Bohemia</td>\n",
              "      <td>95616</td>\n",
              "      <td>65</td>\n",
              "      <td>30</td>\n",
              "      <td>4</td>\n",
              "      <td>1</td>\n",
              "      <td>6</td>\n",
              "      <td>51.4</td>\n",
              "      <td>9307</td>\n",
              "      <td>3.85</td>\n",
              "      <td>4.43</td>\n",
              "      <td>118</td>\n",
              "      <td>2616</td>\n",
              "      <td>3040</td>\n",
              "    </tr>\n",
              "    <tr>\n",
              "      <th>...</th>\n",
              "      <td>...</td>\n",
              "      <td>...</td>\n",
              "      <td>...</td>\n",
              "      <td>...</td>\n",
              "      <td>...</td>\n",
              "      <td>...</td>\n",
              "      <td>...</td>\n",
              "      <td>...</td>\n",
              "      <td>...</td>\n",
              "      <td>...</td>\n",
              "      <td>...</td>\n",
              "      <td>...</td>\n",
              "      <td>...</td>\n",
              "      <td>...</td>\n",
              "      <td>...</td>\n",
              "      <td>...</td>\n",
              "    </tr>\n",
              "    <tr>\n",
              "      <th>72</th>\n",
              "      <td>73</td>\n",
              "      <td>Opava</td>\n",
              "      <td>north Moravia</td>\n",
              "      <td>182027</td>\n",
              "      <td>17</td>\n",
              "      <td>49</td>\n",
              "      <td>12</td>\n",
              "      <td>2</td>\n",
              "      <td>7</td>\n",
              "      <td>56.4</td>\n",
              "      <td>8746</td>\n",
              "      <td>3.33</td>\n",
              "      <td>3.74</td>\n",
              "      <td>90</td>\n",
              "      <td>4355</td>\n",
              "      <td>4433</td>\n",
              "    </tr>\n",
              "    <tr>\n",
              "      <th>73</th>\n",
              "      <td>74</td>\n",
              "      <td>Ostrava - mesto</td>\n",
              "      <td>north Moravia</td>\n",
              "      <td>323870</td>\n",
              "      <td>0</td>\n",
              "      <td>0</td>\n",
              "      <td>0</td>\n",
              "      <td>1</td>\n",
              "      <td>1</td>\n",
              "      <td>100.0</td>\n",
              "      <td>10673</td>\n",
              "      <td>4.75</td>\n",
              "      <td>5.44</td>\n",
              "      <td>100</td>\n",
              "      <td>18782</td>\n",
              "      <td>18347</td>\n",
              "    </tr>\n",
              "    <tr>\n",
              "      <th>74</th>\n",
              "      <td>75</td>\n",
              "      <td>Prerov</td>\n",
              "      <td>north Moravia</td>\n",
              "      <td>138032</td>\n",
              "      <td>67</td>\n",
              "      <td>30</td>\n",
              "      <td>4</td>\n",
              "      <td>2</td>\n",
              "      <td>5</td>\n",
              "      <td>64.6</td>\n",
              "      <td>8819</td>\n",
              "      <td>5.38</td>\n",
              "      <td>5.66</td>\n",
              "      <td>99</td>\n",
              "      <td>4063</td>\n",
              "      <td>4505</td>\n",
              "    </tr>\n",
              "    <tr>\n",
              "      <th>75</th>\n",
              "      <td>76</td>\n",
              "      <td>Sumperk</td>\n",
              "      <td>north Moravia</td>\n",
              "      <td>127369</td>\n",
              "      <td>31</td>\n",
              "      <td>32</td>\n",
              "      <td>13</td>\n",
              "      <td>2</td>\n",
              "      <td>7</td>\n",
              "      <td>51.2</td>\n",
              "      <td>8369</td>\n",
              "      <td>4.73</td>\n",
              "      <td>5.88</td>\n",
              "      <td>107</td>\n",
              "      <td>3736</td>\n",
              "      <td>2807</td>\n",
              "    </tr>\n",
              "    <tr>\n",
              "      <th>76</th>\n",
              "      <td>77</td>\n",
              "      <td>Vsetin</td>\n",
              "      <td>north Moravia</td>\n",
              "      <td>148545</td>\n",
              "      <td>8</td>\n",
              "      <td>35</td>\n",
              "      <td>12</td>\n",
              "      <td>3</td>\n",
              "      <td>4</td>\n",
              "      <td>53.5</td>\n",
              "      <td>8909</td>\n",
              "      <td>4.01</td>\n",
              "      <td>5.56</td>\n",
              "      <td>113</td>\n",
              "      <td>3460</td>\n",
              "      <td>3590</td>\n",
              "    </tr>\n",
              "  </tbody>\n",
              "</table>\n",
              "<p>77 rows × 16 columns</p>\n",
              "</div>\n",
              "      <button class=\"colab-df-convert\" onclick=\"convertToInteractive('df-8c7afae0-0b5c-4b32-835d-625ca64afc22')\"\n",
              "              title=\"Convert this dataframe to an interactive table.\"\n",
              "              style=\"display:none;\">\n",
              "        \n",
              "  <svg xmlns=\"http://www.w3.org/2000/svg\" height=\"24px\"viewBox=\"0 0 24 24\"\n",
              "       width=\"24px\">\n",
              "    <path d=\"M0 0h24v24H0V0z\" fill=\"none\"/>\n",
              "    <path d=\"M18.56 5.44l.94 2.06.94-2.06 2.06-.94-2.06-.94-.94-2.06-.94 2.06-2.06.94zm-11 1L8.5 8.5l.94-2.06 2.06-.94-2.06-.94L8.5 2.5l-.94 2.06-2.06.94zm10 10l.94 2.06.94-2.06 2.06-.94-2.06-.94-.94-2.06-.94 2.06-2.06.94z\"/><path d=\"M17.41 7.96l-1.37-1.37c-.4-.4-.92-.59-1.43-.59-.52 0-1.04.2-1.43.59L10.3 9.45l-7.72 7.72c-.78.78-.78 2.05 0 2.83L4 21.41c.39.39.9.59 1.41.59.51 0 1.02-.2 1.41-.59l7.78-7.78 2.81-2.81c.8-.78.8-2.07 0-2.86zM5.41 20L4 18.59l7.72-7.72 1.47 1.35L5.41 20z\"/>\n",
              "  </svg>\n",
              "      </button>\n",
              "      \n",
              "  <style>\n",
              "    .colab-df-container {\n",
              "      display:flex;\n",
              "      flex-wrap:wrap;\n",
              "      gap: 12px;\n",
              "    }\n",
              "\n",
              "    .colab-df-convert {\n",
              "      background-color: #E8F0FE;\n",
              "      border: none;\n",
              "      border-radius: 50%;\n",
              "      cursor: pointer;\n",
              "      display: none;\n",
              "      fill: #1967D2;\n",
              "      height: 32px;\n",
              "      padding: 0 0 0 0;\n",
              "      width: 32px;\n",
              "    }\n",
              "\n",
              "    .colab-df-convert:hover {\n",
              "      background-color: #E2EBFA;\n",
              "      box-shadow: 0px 1px 2px rgba(60, 64, 67, 0.3), 0px 1px 3px 1px rgba(60, 64, 67, 0.15);\n",
              "      fill: #174EA6;\n",
              "    }\n",
              "\n",
              "    [theme=dark] .colab-df-convert {\n",
              "      background-color: #3B4455;\n",
              "      fill: #D2E3FC;\n",
              "    }\n",
              "\n",
              "    [theme=dark] .colab-df-convert:hover {\n",
              "      background-color: #434B5C;\n",
              "      box-shadow: 0px 1px 3px 1px rgba(0, 0, 0, 0.15);\n",
              "      filter: drop-shadow(0px 1px 2px rgba(0, 0, 0, 0.3));\n",
              "      fill: #FFFFFF;\n",
              "    }\n",
              "  </style>\n",
              "\n",
              "      <script>\n",
              "        const buttonEl =\n",
              "          document.querySelector('#df-8c7afae0-0b5c-4b32-835d-625ca64afc22 button.colab-df-convert');\n",
              "        buttonEl.style.display =\n",
              "          google.colab.kernel.accessAllowed ? 'block' : 'none';\n",
              "\n",
              "        async function convertToInteractive(key) {\n",
              "          const element = document.querySelector('#df-8c7afae0-0b5c-4b32-835d-625ca64afc22');\n",
              "          const dataTable =\n",
              "            await google.colab.kernel.invokeFunction('convertToInteractive',\n",
              "                                                     [key], {});\n",
              "          if (!dataTable) return;\n",
              "\n",
              "          const docLinkHtml = 'Like what you see? Visit the ' +\n",
              "            '<a target=\"_blank\" href=https://colab.research.google.com/notebooks/data_table.ipynb>data table notebook</a>'\n",
              "            + ' to learn more about interactive tables.';\n",
              "          element.innerHTML = '';\n",
              "          dataTable['output_type'] = 'display_data';\n",
              "          await google.colab.output.renderOutput(dataTable, element);\n",
              "          const docLink = document.createElement('div');\n",
              "          docLink.innerHTML = docLinkHtml;\n",
              "          element.appendChild(docLink);\n",
              "        }\n",
              "      </script>\n",
              "    </div>\n",
              "  </div>\n",
              "  "
            ]
          },
          "metadata": {},
          "execution_count": 9
        }
      ]
    },
    {
      "cell_type": "markdown",
      "metadata": {
        "id": "N8MZ0njihEpK"
      },
      "source": [
        "## Cargar resto de tablas"
      ]
    },
    {
      "cell_type": "markdown",
      "metadata": {
        "id": "BRvRZRLjh8OW"
      },
      "source": [
        "### account"
      ]
    },
    {
      "cell_type": "markdown",
      "source": [],
      "metadata": {
        "id": "CKRieHmJBAK7"
      }
    },
    {
      "cell_type": "code",
      "metadata": {
        "colab": {
          "base_uri": "https://localhost:8080/"
        },
        "id": "Xt0_52N0XWZN",
        "outputId": "e97125fb-d078-4857-daf5-ab10a9a6e4fc"
      },
      "source": [
        "!wget https://raw.githubusercontent.com/zhouxu-ds/loan-default-prediction/main/data/account.asc"
      ],
      "execution_count": null,
      "outputs": [
        {
          "output_type": "stream",
          "name": "stdout",
          "text": [
            "--2022-11-25 17:03:11--  https://raw.githubusercontent.com/zhouxu-ds/loan-default-prediction/main/data/account.asc\n",
            "Resolving raw.githubusercontent.com (raw.githubusercontent.com)... 185.199.108.133, 185.199.109.133, 185.199.110.133, ...\n",
            "Connecting to raw.githubusercontent.com (raw.githubusercontent.com)|185.199.108.133|:443... connected.\n",
            "HTTP request sent, awaiting response... 200 OK\n",
            "Length: 155356 (152K) [text/plain]\n",
            "Saving to: ‘account.asc’\n",
            "\n",
            "\raccount.asc           0%[                    ]       0  --.-KB/s               \raccount.asc         100%[===================>] 151.71K  --.-KB/s    in 0.02s   \n",
            "\n",
            "2022-11-25 17:03:12 (9.46 MB/s) - ‘account.asc’ saved [155356/155356]\n",
            "\n"
          ]
        }
      ]
    },
    {
      "cell_type": "code",
      "metadata": {
        "id": "BulrT_wrhK_h"
      },
      "source": [
        "con.execute('CREATE TABLE IF NOT EXISTS ACCOUNT (account_id INT PRIMARY KEY, district_id INT, frequency TEXT, date INT, '\n",
        "      + 'FOREIGN KEY (district_id) REFERENCES district (A1))')\n",
        "con.commit()"
      ],
      "execution_count": null,
      "outputs": []
    },
    {
      "cell_type": "code",
      "metadata": {
        "id": "HXoB_uwOhjzl"
      },
      "source": [
        "pd.read_csv('account.asc', sep = \";\" ).to_sql('ACCOUNT', con, if_exists='append', index = False)\n"
      ],
      "execution_count": null,
      "outputs": []
    },
    {
      "cell_type": "code",
      "metadata": {
        "id": "q3_yIKhxhpQ9",
        "colab": {
          "base_uri": "https://localhost:8080/",
          "height": 354
        },
        "outputId": "34a0dafa-1ecb-4f79-cd13-6d42d2ca9d16"
      },
      "source": [
        "pd.read_sql_query(\"SELECT * FROM ACCOUNT LIMIT 10\", con)"
      ],
      "execution_count": null,
      "outputs": [
        {
          "output_type": "execute_result",
          "data": {
            "text/plain": [
              "   account_id  district_id           frequency    date\n",
              "0         576           55    POPLATEK MESICNE  930101\n",
              "1        3818           74    POPLATEK MESICNE  930101\n",
              "2         704           55    POPLATEK MESICNE  930101\n",
              "3        2378           16    POPLATEK MESICNE  930101\n",
              "4        2632           24    POPLATEK MESICNE  930102\n",
              "5        1972           77    POPLATEK MESICNE  930102\n",
              "6        1539            1  POPLATEK PO OBRATU  930103\n",
              "7         793           47    POPLATEK MESICNE  930103\n",
              "8        2484           74    POPLATEK MESICNE  930103\n",
              "9        1695           76    POPLATEK MESICNE  930103"
            ],
            "text/html": [
              "\n",
              "  <div id=\"df-99f64935-2aa0-43ba-bee0-583bf8c0833f\">\n",
              "    <div class=\"colab-df-container\">\n",
              "      <div>\n",
              "<style scoped>\n",
              "    .dataframe tbody tr th:only-of-type {\n",
              "        vertical-align: middle;\n",
              "    }\n",
              "\n",
              "    .dataframe tbody tr th {\n",
              "        vertical-align: top;\n",
              "    }\n",
              "\n",
              "    .dataframe thead th {\n",
              "        text-align: right;\n",
              "    }\n",
              "</style>\n",
              "<table border=\"1\" class=\"dataframe\">\n",
              "  <thead>\n",
              "    <tr style=\"text-align: right;\">\n",
              "      <th></th>\n",
              "      <th>account_id</th>\n",
              "      <th>district_id</th>\n",
              "      <th>frequency</th>\n",
              "      <th>date</th>\n",
              "    </tr>\n",
              "  </thead>\n",
              "  <tbody>\n",
              "    <tr>\n",
              "      <th>0</th>\n",
              "      <td>576</td>\n",
              "      <td>55</td>\n",
              "      <td>POPLATEK MESICNE</td>\n",
              "      <td>930101</td>\n",
              "    </tr>\n",
              "    <tr>\n",
              "      <th>1</th>\n",
              "      <td>3818</td>\n",
              "      <td>74</td>\n",
              "      <td>POPLATEK MESICNE</td>\n",
              "      <td>930101</td>\n",
              "    </tr>\n",
              "    <tr>\n",
              "      <th>2</th>\n",
              "      <td>704</td>\n",
              "      <td>55</td>\n",
              "      <td>POPLATEK MESICNE</td>\n",
              "      <td>930101</td>\n",
              "    </tr>\n",
              "    <tr>\n",
              "      <th>3</th>\n",
              "      <td>2378</td>\n",
              "      <td>16</td>\n",
              "      <td>POPLATEK MESICNE</td>\n",
              "      <td>930101</td>\n",
              "    </tr>\n",
              "    <tr>\n",
              "      <th>4</th>\n",
              "      <td>2632</td>\n",
              "      <td>24</td>\n",
              "      <td>POPLATEK MESICNE</td>\n",
              "      <td>930102</td>\n",
              "    </tr>\n",
              "    <tr>\n",
              "      <th>5</th>\n",
              "      <td>1972</td>\n",
              "      <td>77</td>\n",
              "      <td>POPLATEK MESICNE</td>\n",
              "      <td>930102</td>\n",
              "    </tr>\n",
              "    <tr>\n",
              "      <th>6</th>\n",
              "      <td>1539</td>\n",
              "      <td>1</td>\n",
              "      <td>POPLATEK PO OBRATU</td>\n",
              "      <td>930103</td>\n",
              "    </tr>\n",
              "    <tr>\n",
              "      <th>7</th>\n",
              "      <td>793</td>\n",
              "      <td>47</td>\n",
              "      <td>POPLATEK MESICNE</td>\n",
              "      <td>930103</td>\n",
              "    </tr>\n",
              "    <tr>\n",
              "      <th>8</th>\n",
              "      <td>2484</td>\n",
              "      <td>74</td>\n",
              "      <td>POPLATEK MESICNE</td>\n",
              "      <td>930103</td>\n",
              "    </tr>\n",
              "    <tr>\n",
              "      <th>9</th>\n",
              "      <td>1695</td>\n",
              "      <td>76</td>\n",
              "      <td>POPLATEK MESICNE</td>\n",
              "      <td>930103</td>\n",
              "    </tr>\n",
              "  </tbody>\n",
              "</table>\n",
              "</div>\n",
              "      <button class=\"colab-df-convert\" onclick=\"convertToInteractive('df-99f64935-2aa0-43ba-bee0-583bf8c0833f')\"\n",
              "              title=\"Convert this dataframe to an interactive table.\"\n",
              "              style=\"display:none;\">\n",
              "        \n",
              "  <svg xmlns=\"http://www.w3.org/2000/svg\" height=\"24px\"viewBox=\"0 0 24 24\"\n",
              "       width=\"24px\">\n",
              "    <path d=\"M0 0h24v24H0V0z\" fill=\"none\"/>\n",
              "    <path d=\"M18.56 5.44l.94 2.06.94-2.06 2.06-.94-2.06-.94-.94-2.06-.94 2.06-2.06.94zm-11 1L8.5 8.5l.94-2.06 2.06-.94-2.06-.94L8.5 2.5l-.94 2.06-2.06.94zm10 10l.94 2.06.94-2.06 2.06-.94-2.06-.94-.94-2.06-.94 2.06-2.06.94z\"/><path d=\"M17.41 7.96l-1.37-1.37c-.4-.4-.92-.59-1.43-.59-.52 0-1.04.2-1.43.59L10.3 9.45l-7.72 7.72c-.78.78-.78 2.05 0 2.83L4 21.41c.39.39.9.59 1.41.59.51 0 1.02-.2 1.41-.59l7.78-7.78 2.81-2.81c.8-.78.8-2.07 0-2.86zM5.41 20L4 18.59l7.72-7.72 1.47 1.35L5.41 20z\"/>\n",
              "  </svg>\n",
              "      </button>\n",
              "      \n",
              "  <style>\n",
              "    .colab-df-container {\n",
              "      display:flex;\n",
              "      flex-wrap:wrap;\n",
              "      gap: 12px;\n",
              "    }\n",
              "\n",
              "    .colab-df-convert {\n",
              "      background-color: #E8F0FE;\n",
              "      border: none;\n",
              "      border-radius: 50%;\n",
              "      cursor: pointer;\n",
              "      display: none;\n",
              "      fill: #1967D2;\n",
              "      height: 32px;\n",
              "      padding: 0 0 0 0;\n",
              "      width: 32px;\n",
              "    }\n",
              "\n",
              "    .colab-df-convert:hover {\n",
              "      background-color: #E2EBFA;\n",
              "      box-shadow: 0px 1px 2px rgba(60, 64, 67, 0.3), 0px 1px 3px 1px rgba(60, 64, 67, 0.15);\n",
              "      fill: #174EA6;\n",
              "    }\n",
              "\n",
              "    [theme=dark] .colab-df-convert {\n",
              "      background-color: #3B4455;\n",
              "      fill: #D2E3FC;\n",
              "    }\n",
              "\n",
              "    [theme=dark] .colab-df-convert:hover {\n",
              "      background-color: #434B5C;\n",
              "      box-shadow: 0px 1px 3px 1px rgba(0, 0, 0, 0.15);\n",
              "      filter: drop-shadow(0px 1px 2px rgba(0, 0, 0, 0.3));\n",
              "      fill: #FFFFFF;\n",
              "    }\n",
              "  </style>\n",
              "\n",
              "      <script>\n",
              "        const buttonEl =\n",
              "          document.querySelector('#df-99f64935-2aa0-43ba-bee0-583bf8c0833f button.colab-df-convert');\n",
              "        buttonEl.style.display =\n",
              "          google.colab.kernel.accessAllowed ? 'block' : 'none';\n",
              "\n",
              "        async function convertToInteractive(key) {\n",
              "          const element = document.querySelector('#df-99f64935-2aa0-43ba-bee0-583bf8c0833f');\n",
              "          const dataTable =\n",
              "            await google.colab.kernel.invokeFunction('convertToInteractive',\n",
              "                                                     [key], {});\n",
              "          if (!dataTable) return;\n",
              "\n",
              "          const docLinkHtml = 'Like what you see? Visit the ' +\n",
              "            '<a target=\"_blank\" href=https://colab.research.google.com/notebooks/data_table.ipynb>data table notebook</a>'\n",
              "            + ' to learn more about interactive tables.';\n",
              "          element.innerHTML = '';\n",
              "          dataTable['output_type'] = 'display_data';\n",
              "          await google.colab.output.renderOutput(dataTable, element);\n",
              "          const docLink = document.createElement('div');\n",
              "          docLink.innerHTML = docLinkHtml;\n",
              "          element.appendChild(docLink);\n",
              "        }\n",
              "      </script>\n",
              "    </div>\n",
              "  </div>\n",
              "  "
            ]
          },
          "metadata": {},
          "execution_count": 12
        }
      ]
    },
    {
      "cell_type": "markdown",
      "metadata": {
        "id": "xQzb0A29M6ZG"
      },
      "source": [
        "#### Manipulamos estos datos\n"
      ]
    },
    {
      "cell_type": "markdown",
      "metadata": {
        "id": "D0xI2Zx0VL_f"
      },
      "source": [
        "Vamos a utilizar la sentencia UPDATE para traducir del checo al inglés"
      ]
    },
    {
      "cell_type": "code",
      "metadata": {
        "id": "teMh8NCPva54"
      },
      "source": [
        "con.execute(\"UPDATE ACCOUNT SET frequency = 'monthly' WHERE frequency = 'POPLATEK MESICNE'\")\n",
        "con.execute(\"UPDATE ACCOUNT SET frequency = 'weekly' WHERE frequency = 'POPLATEK TYDNE'\")\n",
        "con.execute(\"UPDATE ACCOUNT SET frequency = 'after_tr' WHERE frequency = 'POPLATEK PO OBRATU'\")\n",
        "con.commit()"
      ],
      "execution_count": null,
      "outputs": []
    },
    {
      "cell_type": "code",
      "metadata": {
        "id": "w2DmyuPSVJ6l",
        "colab": {
          "base_uri": "https://localhost:8080/",
          "height": 354
        },
        "outputId": "62d4c71d-3e64-410e-8927-e452597e3312"
      },
      "source": [
        "pd.read_sql_query(\"SELECT * FROM ACCOUNT LIMIT 10\", con)"
      ],
      "execution_count": null,
      "outputs": [
        {
          "output_type": "execute_result",
          "data": {
            "text/plain": [
              "   account_id  district_id frequency    date\n",
              "0         576           55   monthly  930101\n",
              "1        3818           74   monthly  930101\n",
              "2         704           55   monthly  930101\n",
              "3        2378           16   monthly  930101\n",
              "4        2632           24   monthly  930102\n",
              "5        1972           77   monthly  930102\n",
              "6        1539            1  after_tr  930103\n",
              "7         793           47   monthly  930103\n",
              "8        2484           74   monthly  930103\n",
              "9        1695           76   monthly  930103"
            ],
            "text/html": [
              "\n",
              "  <div id=\"df-a7a50b78-8ead-4505-b09b-6bf5ed75defe\">\n",
              "    <div class=\"colab-df-container\">\n",
              "      <div>\n",
              "<style scoped>\n",
              "    .dataframe tbody tr th:only-of-type {\n",
              "        vertical-align: middle;\n",
              "    }\n",
              "\n",
              "    .dataframe tbody tr th {\n",
              "        vertical-align: top;\n",
              "    }\n",
              "\n",
              "    .dataframe thead th {\n",
              "        text-align: right;\n",
              "    }\n",
              "</style>\n",
              "<table border=\"1\" class=\"dataframe\">\n",
              "  <thead>\n",
              "    <tr style=\"text-align: right;\">\n",
              "      <th></th>\n",
              "      <th>account_id</th>\n",
              "      <th>district_id</th>\n",
              "      <th>frequency</th>\n",
              "      <th>date</th>\n",
              "    </tr>\n",
              "  </thead>\n",
              "  <tbody>\n",
              "    <tr>\n",
              "      <th>0</th>\n",
              "      <td>576</td>\n",
              "      <td>55</td>\n",
              "      <td>monthly</td>\n",
              "      <td>930101</td>\n",
              "    </tr>\n",
              "    <tr>\n",
              "      <th>1</th>\n",
              "      <td>3818</td>\n",
              "      <td>74</td>\n",
              "      <td>monthly</td>\n",
              "      <td>930101</td>\n",
              "    </tr>\n",
              "    <tr>\n",
              "      <th>2</th>\n",
              "      <td>704</td>\n",
              "      <td>55</td>\n",
              "      <td>monthly</td>\n",
              "      <td>930101</td>\n",
              "    </tr>\n",
              "    <tr>\n",
              "      <th>3</th>\n",
              "      <td>2378</td>\n",
              "      <td>16</td>\n",
              "      <td>monthly</td>\n",
              "      <td>930101</td>\n",
              "    </tr>\n",
              "    <tr>\n",
              "      <th>4</th>\n",
              "      <td>2632</td>\n",
              "      <td>24</td>\n",
              "      <td>monthly</td>\n",
              "      <td>930102</td>\n",
              "    </tr>\n",
              "    <tr>\n",
              "      <th>5</th>\n",
              "      <td>1972</td>\n",
              "      <td>77</td>\n",
              "      <td>monthly</td>\n",
              "      <td>930102</td>\n",
              "    </tr>\n",
              "    <tr>\n",
              "      <th>6</th>\n",
              "      <td>1539</td>\n",
              "      <td>1</td>\n",
              "      <td>after_tr</td>\n",
              "      <td>930103</td>\n",
              "    </tr>\n",
              "    <tr>\n",
              "      <th>7</th>\n",
              "      <td>793</td>\n",
              "      <td>47</td>\n",
              "      <td>monthly</td>\n",
              "      <td>930103</td>\n",
              "    </tr>\n",
              "    <tr>\n",
              "      <th>8</th>\n",
              "      <td>2484</td>\n",
              "      <td>74</td>\n",
              "      <td>monthly</td>\n",
              "      <td>930103</td>\n",
              "    </tr>\n",
              "    <tr>\n",
              "      <th>9</th>\n",
              "      <td>1695</td>\n",
              "      <td>76</td>\n",
              "      <td>monthly</td>\n",
              "      <td>930103</td>\n",
              "    </tr>\n",
              "  </tbody>\n",
              "</table>\n",
              "</div>\n",
              "      <button class=\"colab-df-convert\" onclick=\"convertToInteractive('df-a7a50b78-8ead-4505-b09b-6bf5ed75defe')\"\n",
              "              title=\"Convert this dataframe to an interactive table.\"\n",
              "              style=\"display:none;\">\n",
              "        \n",
              "  <svg xmlns=\"http://www.w3.org/2000/svg\" height=\"24px\"viewBox=\"0 0 24 24\"\n",
              "       width=\"24px\">\n",
              "    <path d=\"M0 0h24v24H0V0z\" fill=\"none\"/>\n",
              "    <path d=\"M18.56 5.44l.94 2.06.94-2.06 2.06-.94-2.06-.94-.94-2.06-.94 2.06-2.06.94zm-11 1L8.5 8.5l.94-2.06 2.06-.94-2.06-.94L8.5 2.5l-.94 2.06-2.06.94zm10 10l.94 2.06.94-2.06 2.06-.94-2.06-.94-.94-2.06-.94 2.06-2.06.94z\"/><path d=\"M17.41 7.96l-1.37-1.37c-.4-.4-.92-.59-1.43-.59-.52 0-1.04.2-1.43.59L10.3 9.45l-7.72 7.72c-.78.78-.78 2.05 0 2.83L4 21.41c.39.39.9.59 1.41.59.51 0 1.02-.2 1.41-.59l7.78-7.78 2.81-2.81c.8-.78.8-2.07 0-2.86zM5.41 20L4 18.59l7.72-7.72 1.47 1.35L5.41 20z\"/>\n",
              "  </svg>\n",
              "      </button>\n",
              "      \n",
              "  <style>\n",
              "    .colab-df-container {\n",
              "      display:flex;\n",
              "      flex-wrap:wrap;\n",
              "      gap: 12px;\n",
              "    }\n",
              "\n",
              "    .colab-df-convert {\n",
              "      background-color: #E8F0FE;\n",
              "      border: none;\n",
              "      border-radius: 50%;\n",
              "      cursor: pointer;\n",
              "      display: none;\n",
              "      fill: #1967D2;\n",
              "      height: 32px;\n",
              "      padding: 0 0 0 0;\n",
              "      width: 32px;\n",
              "    }\n",
              "\n",
              "    .colab-df-convert:hover {\n",
              "      background-color: #E2EBFA;\n",
              "      box-shadow: 0px 1px 2px rgba(60, 64, 67, 0.3), 0px 1px 3px 1px rgba(60, 64, 67, 0.15);\n",
              "      fill: #174EA6;\n",
              "    }\n",
              "\n",
              "    [theme=dark] .colab-df-convert {\n",
              "      background-color: #3B4455;\n",
              "      fill: #D2E3FC;\n",
              "    }\n",
              "\n",
              "    [theme=dark] .colab-df-convert:hover {\n",
              "      background-color: #434B5C;\n",
              "      box-shadow: 0px 1px 3px 1px rgba(0, 0, 0, 0.15);\n",
              "      filter: drop-shadow(0px 1px 2px rgba(0, 0, 0, 0.3));\n",
              "      fill: #FFFFFF;\n",
              "    }\n",
              "  </style>\n",
              "\n",
              "      <script>\n",
              "        const buttonEl =\n",
              "          document.querySelector('#df-a7a50b78-8ead-4505-b09b-6bf5ed75defe button.colab-df-convert');\n",
              "        buttonEl.style.display =\n",
              "          google.colab.kernel.accessAllowed ? 'block' : 'none';\n",
              "\n",
              "        async function convertToInteractive(key) {\n",
              "          const element = document.querySelector('#df-a7a50b78-8ead-4505-b09b-6bf5ed75defe');\n",
              "          const dataTable =\n",
              "            await google.colab.kernel.invokeFunction('convertToInteractive',\n",
              "                                                     [key], {});\n",
              "          if (!dataTable) return;\n",
              "\n",
              "          const docLinkHtml = 'Like what you see? Visit the ' +\n",
              "            '<a target=\"_blank\" href=https://colab.research.google.com/notebooks/data_table.ipynb>data table notebook</a>'\n",
              "            + ' to learn more about interactive tables.';\n",
              "          element.innerHTML = '';\n",
              "          dataTable['output_type'] = 'display_data';\n",
              "          await google.colab.output.renderOutput(dataTable, element);\n",
              "          const docLink = document.createElement('div');\n",
              "          docLink.innerHTML = docLinkHtml;\n",
              "          element.appendChild(docLink);\n",
              "        }\n",
              "      </script>\n",
              "    </div>\n",
              "  </div>\n",
              "  "
            ]
          },
          "metadata": {},
          "execution_count": 14
        }
      ]
    },
    {
      "cell_type": "markdown",
      "metadata": {
        "id": "JtUf3jDbjIWz"
      },
      "source": [
        "### client"
      ]
    },
    {
      "cell_type": "markdown",
      "source": [
        "1. Descarga de los datos"
      ],
      "metadata": {
        "id": "H2hN9AHUmHzE"
      }
    },
    {
      "cell_type": "markdown",
      "source": [
        "Antes de realizar o crear la tabla CLIENT, es necesario cargar los datos, con la linea de codigo que se introduce a continuación se ejecuta la descarga de datos.\n",
        "\n",
        "**IMPORTANTE:** **La linea de código se compone de varios factores, importante que en la parte de linea que sigue,** .../data/ (AQUI SE SELECCIONA QUE DESCARGA DE DATOS VAMOS A REALIZAR) **client, disposition, loan, trans... etc seguida siempre de .asc**"
      ],
      "metadata": {
        "id": "u06Cr6-5vrZR"
      }
    },
    {
      "cell_type": "code",
      "metadata": {
        "colab": {
          "base_uri": "https://localhost:8080/"
        },
        "id": "GMACKtaVXg3t",
        "outputId": "f31b9dcd-24f7-4b91-ab39-87511b49e00a"
      },
      "source": [
        "!wget https://raw.githubusercontent.com/zhouxu-ds/loan-default-prediction/main/data/client.asc"
      ],
      "execution_count": null,
      "outputs": [
        {
          "output_type": "stream",
          "name": "stdout",
          "text": [
            "--2022-11-25 17:27:44--  https://raw.githubusercontent.com/zhouxu-ds/loan-default-prediction/main/data/client.asc\n",
            "Resolving raw.githubusercontent.com (raw.githubusercontent.com)... 185.199.109.133, 185.199.110.133, 185.199.108.133, ...\n",
            "Connecting to raw.githubusercontent.com (raw.githubusercontent.com)|185.199.109.133|:443... connected.\n",
            "HTTP request sent, awaiting response... 200 OK\n",
            "Length: 94820 (93K) [text/plain]\n",
            "Saving to: ‘client.asc’\n",
            "\n",
            "\rclient.asc            0%[                    ]       0  --.-KB/s               \rclient.asc          100%[===================>]  92.60K  --.-KB/s    in 0.007s  \n",
            "\n",
            "2022-11-25 17:27:44 (12.4 MB/s) - ‘client.asc’ saved [94820/94820]\n",
            "\n"
          ]
        }
      ]
    },
    {
      "cell_type": "markdown",
      "source": [
        "2. Creación de la tabla"
      ],
      "metadata": {
        "id": "7tHwqblamWCo"
      }
    },
    {
      "cell_type": "markdown",
      "source": [
        "Una vez que tenemos los datos que queremos cargados, se procede a realizar la tabla siguiendo los siguientes pasos para la linea de codigo;\n",
        "\n",
        "1. \"con.execute\" como inicio del codigo y a continuación, entre parentisis la siguiente frecuencia (1)\n",
        "2. (1) \"CREATE TABLE IF NOT EXISTS \"NOMBRE DE NUESTRA TABLA QUE ESTEMOS CREANDO EN ESE MOMENTO\" se vuelve abrir (2)\n",
        "3. (2) Dentro de dichos parentesis, vamos introduciendo las variables que componen dicha tabla y a continuación del nombre el tipo de variable que es.\n",
        "4. **IMPORTANTE:**\n",
        "    * Cuidar los parentesis, comas y nombres.\n",
        "    * Marcar que variables son de clave primaria y cuales son claves ajenas.\n",
        "    * Cerrar la linea de código con \"con.commit()\" "
      ],
      "metadata": {
        "id": "RXUWARH4yLc9"
      }
    },
    {
      "cell_type": "code",
      "metadata": {
        "id": "tCT2jLiPjLIE"
      },
      "source": [
        "con.execute(\"CREATE TABLE IF NOT EXISTS CLIENT (client_id INT PRIMARY KEY,birth_number varchar,\tdistrict_id INT, \"\n",
        "            + \"FOREIGN KEY (district_id) REFERENCES district (A1))\");\n",
        "con.commit()\n"
      ],
      "execution_count": null,
      "outputs": []
    },
    {
      "cell_type": "markdown",
      "source": [
        "3. Carga de los datos a la tabla"
      ],
      "metadata": {
        "id": "IVtQkfzBmavM"
      }
    },
    {
      "cell_type": "markdown",
      "source": [
        "Una vez que hemos creado la tabla con todas sus variables, marcando y dejando claras cuales son las primarias, ajenas y las caracteristicas de ellas, se procede a llevar los datos a dicha tabla.\n",
        "\n",
        "La linea de codigo que se necesita es la siguiente:"
      ],
      "metadata": {
        "id": "Y-8-_TpV1SIj"
      }
    },
    {
      "cell_type": "code",
      "metadata": {
        "id": "xskZQaPLy1bl"
      },
      "source": [
        "pd.read_csv('client.asc', sep = \";\" ).to_sql('CLIENT', con, if_exists='append', index = False)"
      ],
      "execution_count": null,
      "outputs": []
    },
    {
      "cell_type": "markdown",
      "source": [
        "4. Comprobar que la creación y la carga se ha hecho bien"
      ],
      "metadata": {
        "id": "UkFk_RdimkRN"
      }
    },
    {
      "cell_type": "code",
      "metadata": {
        "id": "UNvMo6MkzPJ4",
        "colab": {
          "base_uri": "https://localhost:8080/",
          "height": 354
        },
        "outputId": "5ade186f-324f-4037-e3d5-8814d7a4845f"
      },
      "source": [
        "pd.read_sql_query(\"SELECT * FROM CLIENT LIMIT 10\", con)"
      ],
      "execution_count": null,
      "outputs": [
        {
          "output_type": "execute_result",
          "data": {
            "text/plain": [
              "   client_id birth_number  district_id\n",
              "0          1       706213           18\n",
              "1          2       450204            1\n",
              "2          3       406009            1\n",
              "3          4       561201            5\n",
              "4          5       605703            5\n",
              "5          6       190922           12\n",
              "6          7       290125           15\n",
              "7          8       385221           51\n",
              "8          9       351016           60\n",
              "9         10       430501           57"
            ],
            "text/html": [
              "\n",
              "  <div id=\"df-c24fc479-93b7-4ad4-8d68-3756a4c3fa9e\">\n",
              "    <div class=\"colab-df-container\">\n",
              "      <div>\n",
              "<style scoped>\n",
              "    .dataframe tbody tr th:only-of-type {\n",
              "        vertical-align: middle;\n",
              "    }\n",
              "\n",
              "    .dataframe tbody tr th {\n",
              "        vertical-align: top;\n",
              "    }\n",
              "\n",
              "    .dataframe thead th {\n",
              "        text-align: right;\n",
              "    }\n",
              "</style>\n",
              "<table border=\"1\" class=\"dataframe\">\n",
              "  <thead>\n",
              "    <tr style=\"text-align: right;\">\n",
              "      <th></th>\n",
              "      <th>client_id</th>\n",
              "      <th>birth_number</th>\n",
              "      <th>district_id</th>\n",
              "    </tr>\n",
              "  </thead>\n",
              "  <tbody>\n",
              "    <tr>\n",
              "      <th>0</th>\n",
              "      <td>1</td>\n",
              "      <td>706213</td>\n",
              "      <td>18</td>\n",
              "    </tr>\n",
              "    <tr>\n",
              "      <th>1</th>\n",
              "      <td>2</td>\n",
              "      <td>450204</td>\n",
              "      <td>1</td>\n",
              "    </tr>\n",
              "    <tr>\n",
              "      <th>2</th>\n",
              "      <td>3</td>\n",
              "      <td>406009</td>\n",
              "      <td>1</td>\n",
              "    </tr>\n",
              "    <tr>\n",
              "      <th>3</th>\n",
              "      <td>4</td>\n",
              "      <td>561201</td>\n",
              "      <td>5</td>\n",
              "    </tr>\n",
              "    <tr>\n",
              "      <th>4</th>\n",
              "      <td>5</td>\n",
              "      <td>605703</td>\n",
              "      <td>5</td>\n",
              "    </tr>\n",
              "    <tr>\n",
              "      <th>5</th>\n",
              "      <td>6</td>\n",
              "      <td>190922</td>\n",
              "      <td>12</td>\n",
              "    </tr>\n",
              "    <tr>\n",
              "      <th>6</th>\n",
              "      <td>7</td>\n",
              "      <td>290125</td>\n",
              "      <td>15</td>\n",
              "    </tr>\n",
              "    <tr>\n",
              "      <th>7</th>\n",
              "      <td>8</td>\n",
              "      <td>385221</td>\n",
              "      <td>51</td>\n",
              "    </tr>\n",
              "    <tr>\n",
              "      <th>8</th>\n",
              "      <td>9</td>\n",
              "      <td>351016</td>\n",
              "      <td>60</td>\n",
              "    </tr>\n",
              "    <tr>\n",
              "      <th>9</th>\n",
              "      <td>10</td>\n",
              "      <td>430501</td>\n",
              "      <td>57</td>\n",
              "    </tr>\n",
              "  </tbody>\n",
              "</table>\n",
              "</div>\n",
              "      <button class=\"colab-df-convert\" onclick=\"convertToInteractive('df-c24fc479-93b7-4ad4-8d68-3756a4c3fa9e')\"\n",
              "              title=\"Convert this dataframe to an interactive table.\"\n",
              "              style=\"display:none;\">\n",
              "        \n",
              "  <svg xmlns=\"http://www.w3.org/2000/svg\" height=\"24px\"viewBox=\"0 0 24 24\"\n",
              "       width=\"24px\">\n",
              "    <path d=\"M0 0h24v24H0V0z\" fill=\"none\"/>\n",
              "    <path d=\"M18.56 5.44l.94 2.06.94-2.06 2.06-.94-2.06-.94-.94-2.06-.94 2.06-2.06.94zm-11 1L8.5 8.5l.94-2.06 2.06-.94-2.06-.94L8.5 2.5l-.94 2.06-2.06.94zm10 10l.94 2.06.94-2.06 2.06-.94-2.06-.94-.94-2.06-.94 2.06-2.06.94z\"/><path d=\"M17.41 7.96l-1.37-1.37c-.4-.4-.92-.59-1.43-.59-.52 0-1.04.2-1.43.59L10.3 9.45l-7.72 7.72c-.78.78-.78 2.05 0 2.83L4 21.41c.39.39.9.59 1.41.59.51 0 1.02-.2 1.41-.59l7.78-7.78 2.81-2.81c.8-.78.8-2.07 0-2.86zM5.41 20L4 18.59l7.72-7.72 1.47 1.35L5.41 20z\"/>\n",
              "  </svg>\n",
              "      </button>\n",
              "      \n",
              "  <style>\n",
              "    .colab-df-container {\n",
              "      display:flex;\n",
              "      flex-wrap:wrap;\n",
              "      gap: 12px;\n",
              "    }\n",
              "\n",
              "    .colab-df-convert {\n",
              "      background-color: #E8F0FE;\n",
              "      border: none;\n",
              "      border-radius: 50%;\n",
              "      cursor: pointer;\n",
              "      display: none;\n",
              "      fill: #1967D2;\n",
              "      height: 32px;\n",
              "      padding: 0 0 0 0;\n",
              "      width: 32px;\n",
              "    }\n",
              "\n",
              "    .colab-df-convert:hover {\n",
              "      background-color: #E2EBFA;\n",
              "      box-shadow: 0px 1px 2px rgba(60, 64, 67, 0.3), 0px 1px 3px 1px rgba(60, 64, 67, 0.15);\n",
              "      fill: #174EA6;\n",
              "    }\n",
              "\n",
              "    [theme=dark] .colab-df-convert {\n",
              "      background-color: #3B4455;\n",
              "      fill: #D2E3FC;\n",
              "    }\n",
              "\n",
              "    [theme=dark] .colab-df-convert:hover {\n",
              "      background-color: #434B5C;\n",
              "      box-shadow: 0px 1px 3px 1px rgba(0, 0, 0, 0.15);\n",
              "      filter: drop-shadow(0px 1px 2px rgba(0, 0, 0, 0.3));\n",
              "      fill: #FFFFFF;\n",
              "    }\n",
              "  </style>\n",
              "\n",
              "      <script>\n",
              "        const buttonEl =\n",
              "          document.querySelector('#df-c24fc479-93b7-4ad4-8d68-3756a4c3fa9e button.colab-df-convert');\n",
              "        buttonEl.style.display =\n",
              "          google.colab.kernel.accessAllowed ? 'block' : 'none';\n",
              "\n",
              "        async function convertToInteractive(key) {\n",
              "          const element = document.querySelector('#df-c24fc479-93b7-4ad4-8d68-3756a4c3fa9e');\n",
              "          const dataTable =\n",
              "            await google.colab.kernel.invokeFunction('convertToInteractive',\n",
              "                                                     [key], {});\n",
              "          if (!dataTable) return;\n",
              "\n",
              "          const docLinkHtml = 'Like what you see? Visit the ' +\n",
              "            '<a target=\"_blank\" href=https://colab.research.google.com/notebooks/data_table.ipynb>data table notebook</a>'\n",
              "            + ' to learn more about interactive tables.';\n",
              "          element.innerHTML = '';\n",
              "          dataTable['output_type'] = 'display_data';\n",
              "          await google.colab.output.renderOutput(dataTable, element);\n",
              "          const docLink = document.createElement('div');\n",
              "          docLink.innerHTML = docLinkHtml;\n",
              "          element.appendChild(docLink);\n",
              "        }\n",
              "      </script>\n",
              "    </div>\n",
              "  </div>\n",
              "  "
            ]
          },
          "metadata": {},
          "execution_count": 18
        }
      ]
    },
    {
      "cell_type": "markdown",
      "source": [
        "5. Código para borrado después de un diseño incorrecto"
      ],
      "metadata": {
        "id": "I2QzYCsumddU"
      }
    },
    {
      "cell_type": "markdown",
      "source": [
        "En caso de haber realizado mal la tabla y esté dando muchos errores al ejercutar el codigo se puede realizar un borrado, ejecutando la siguiente linea de codigo:"
      ],
      "metadata": {
        "id": "yd1Tqu8m1qvX"
      }
    },
    {
      "cell_type": "code",
      "metadata": {
        "id": "7gIU4U_KtoZA"
      },
      "source": [
        "con.execute(\"DROP TABLE CLIENT\");\n",
        "con.commit()"
      ],
      "execution_count": null,
      "outputs": []
    },
    {
      "cell_type": "markdown",
      "metadata": {
        "id": "UpTK9qfjpkuM"
      },
      "source": [
        "### disposition"
      ]
    },
    {
      "cell_type": "markdown",
      "source": [
        "1. Descarga de los datos"
      ],
      "metadata": {
        "id": "9wN9hET93voM"
      }
    },
    {
      "cell_type": "code",
      "source": [
        "!wget https://raw.githubusercontent.com/zhouxu-ds/loan-default-prediction/main/data/disp.asc"
      ],
      "metadata": {
        "id": "hYlNv3h83FEj",
        "colab": {
          "base_uri": "https://localhost:8080/"
        },
        "outputId": "2bb8d7c5-cdc5-41eb-b78b-0ec95247e914"
      },
      "execution_count": null,
      "outputs": [
        {
          "output_type": "stream",
          "name": "stdout",
          "text": [
            "--2022-11-25 17:30:53--  https://raw.githubusercontent.com/zhouxu-ds/loan-default-prediction/main/data/disp.asc\n",
            "Resolving raw.githubusercontent.com (raw.githubusercontent.com)... 185.199.108.133, 185.199.110.133, 185.199.109.133, ...\n",
            "Connecting to raw.githubusercontent.com (raw.githubusercontent.com)|185.199.108.133|:443... connected.\n",
            "HTTP request sent, awaiting response... 200 OK\n",
            "Length: 129716 (127K) [text/plain]\n",
            "Saving to: ‘disp.asc’\n",
            "\n",
            "\rdisp.asc              0%[                    ]       0  --.-KB/s               \rdisp.asc            100%[===================>] 126.68K  --.-KB/s    in 0.01s   \n",
            "\n",
            "2022-11-25 17:30:54 (11.0 MB/s) - ‘disp.asc’ saved [129716/129716]\n",
            "\n"
          ]
        }
      ]
    },
    {
      "cell_type": "markdown",
      "source": [
        "2. Creación de la tabla\n"
      ],
      "metadata": {
        "id": "D7fKvtsH3voN"
      }
    },
    {
      "cell_type": "code",
      "source": [
        "con.execute(\"CREATE TABLE DISPOSITION (disp_id INT PRIMARY KEY, client_id INT, account_id INT, type TEXT,\"  \n",
        "   + \" FOREIGN KEY (client_id) REFERENCES CLIENT (client_id),\"\n",
        "   + \" FOREIGN KEY (account_id) REFERENCES ACCOUNT (account_id)) \")\n",
        "con.commit()"
      ],
      "metadata": {
        "id": "xo7LEBuHKBXb"
      },
      "execution_count": null,
      "outputs": []
    },
    {
      "cell_type": "markdown",
      "source": [
        "3. Carga de los datos a la tabla\n"
      ],
      "metadata": {
        "id": "kF5jV7x-3voO"
      }
    },
    {
      "cell_type": "code",
      "source": [
        "pd.read_csv('disp.asc', sep = \";\" ).to_sql('DISPOSITION', con, if_exists='append', index = False)"
      ],
      "metadata": {
        "id": "qnvl-ztjMDp7"
      },
      "execution_count": null,
      "outputs": []
    },
    {
      "cell_type": "markdown",
      "source": [
        "4. Comprobar tabla"
      ],
      "metadata": {
        "id": "qIaKDKZs3voO"
      }
    },
    {
      "cell_type": "code",
      "source": [
        "pd.read_sql_query(\"SELECT * FROM DISPOSITION LIMIT 10\", con)"
      ],
      "metadata": {
        "colab": {
          "base_uri": "https://localhost:8080/",
          "height": 354
        },
        "id": "qx_FCnG1MrVf",
        "outputId": "b03c4b20-3e46-4d38-dd44-d6c6ae67e73a"
      },
      "execution_count": null,
      "outputs": [
        {
          "output_type": "execute_result",
          "data": {
            "text/plain": [
              "   disp_id  client_id  account_id       type\n",
              "0        1          1           1      OWNER\n",
              "1        2          2           2      OWNER\n",
              "2        3          3           2  DISPONENT\n",
              "3        4          4           3      OWNER\n",
              "4        5          5           3  DISPONENT\n",
              "5        6          6           4      OWNER\n",
              "6        7          7           5      OWNER\n",
              "7        8          8           6      OWNER\n",
              "8        9          9           7      OWNER\n",
              "9       10         10           8      OWNER"
            ],
            "text/html": [
              "\n",
              "  <div id=\"df-6b908816-4056-4579-82dd-688c5a18a150\">\n",
              "    <div class=\"colab-df-container\">\n",
              "      <div>\n",
              "<style scoped>\n",
              "    .dataframe tbody tr th:only-of-type {\n",
              "        vertical-align: middle;\n",
              "    }\n",
              "\n",
              "    .dataframe tbody tr th {\n",
              "        vertical-align: top;\n",
              "    }\n",
              "\n",
              "    .dataframe thead th {\n",
              "        text-align: right;\n",
              "    }\n",
              "</style>\n",
              "<table border=\"1\" class=\"dataframe\">\n",
              "  <thead>\n",
              "    <tr style=\"text-align: right;\">\n",
              "      <th></th>\n",
              "      <th>disp_id</th>\n",
              "      <th>client_id</th>\n",
              "      <th>account_id</th>\n",
              "      <th>type</th>\n",
              "    </tr>\n",
              "  </thead>\n",
              "  <tbody>\n",
              "    <tr>\n",
              "      <th>0</th>\n",
              "      <td>1</td>\n",
              "      <td>1</td>\n",
              "      <td>1</td>\n",
              "      <td>OWNER</td>\n",
              "    </tr>\n",
              "    <tr>\n",
              "      <th>1</th>\n",
              "      <td>2</td>\n",
              "      <td>2</td>\n",
              "      <td>2</td>\n",
              "      <td>OWNER</td>\n",
              "    </tr>\n",
              "    <tr>\n",
              "      <th>2</th>\n",
              "      <td>3</td>\n",
              "      <td>3</td>\n",
              "      <td>2</td>\n",
              "      <td>DISPONENT</td>\n",
              "    </tr>\n",
              "    <tr>\n",
              "      <th>3</th>\n",
              "      <td>4</td>\n",
              "      <td>4</td>\n",
              "      <td>3</td>\n",
              "      <td>OWNER</td>\n",
              "    </tr>\n",
              "    <tr>\n",
              "      <th>4</th>\n",
              "      <td>5</td>\n",
              "      <td>5</td>\n",
              "      <td>3</td>\n",
              "      <td>DISPONENT</td>\n",
              "    </tr>\n",
              "    <tr>\n",
              "      <th>5</th>\n",
              "      <td>6</td>\n",
              "      <td>6</td>\n",
              "      <td>4</td>\n",
              "      <td>OWNER</td>\n",
              "    </tr>\n",
              "    <tr>\n",
              "      <th>6</th>\n",
              "      <td>7</td>\n",
              "      <td>7</td>\n",
              "      <td>5</td>\n",
              "      <td>OWNER</td>\n",
              "    </tr>\n",
              "    <tr>\n",
              "      <th>7</th>\n",
              "      <td>8</td>\n",
              "      <td>8</td>\n",
              "      <td>6</td>\n",
              "      <td>OWNER</td>\n",
              "    </tr>\n",
              "    <tr>\n",
              "      <th>8</th>\n",
              "      <td>9</td>\n",
              "      <td>9</td>\n",
              "      <td>7</td>\n",
              "      <td>OWNER</td>\n",
              "    </tr>\n",
              "    <tr>\n",
              "      <th>9</th>\n",
              "      <td>10</td>\n",
              "      <td>10</td>\n",
              "      <td>8</td>\n",
              "      <td>OWNER</td>\n",
              "    </tr>\n",
              "  </tbody>\n",
              "</table>\n",
              "</div>\n",
              "      <button class=\"colab-df-convert\" onclick=\"convertToInteractive('df-6b908816-4056-4579-82dd-688c5a18a150')\"\n",
              "              title=\"Convert this dataframe to an interactive table.\"\n",
              "              style=\"display:none;\">\n",
              "        \n",
              "  <svg xmlns=\"http://www.w3.org/2000/svg\" height=\"24px\"viewBox=\"0 0 24 24\"\n",
              "       width=\"24px\">\n",
              "    <path d=\"M0 0h24v24H0V0z\" fill=\"none\"/>\n",
              "    <path d=\"M18.56 5.44l.94 2.06.94-2.06 2.06-.94-2.06-.94-.94-2.06-.94 2.06-2.06.94zm-11 1L8.5 8.5l.94-2.06 2.06-.94-2.06-.94L8.5 2.5l-.94 2.06-2.06.94zm10 10l.94 2.06.94-2.06 2.06-.94-2.06-.94-.94-2.06-.94 2.06-2.06.94z\"/><path d=\"M17.41 7.96l-1.37-1.37c-.4-.4-.92-.59-1.43-.59-.52 0-1.04.2-1.43.59L10.3 9.45l-7.72 7.72c-.78.78-.78 2.05 0 2.83L4 21.41c.39.39.9.59 1.41.59.51 0 1.02-.2 1.41-.59l7.78-7.78 2.81-2.81c.8-.78.8-2.07 0-2.86zM5.41 20L4 18.59l7.72-7.72 1.47 1.35L5.41 20z\"/>\n",
              "  </svg>\n",
              "      </button>\n",
              "      \n",
              "  <style>\n",
              "    .colab-df-container {\n",
              "      display:flex;\n",
              "      flex-wrap:wrap;\n",
              "      gap: 12px;\n",
              "    }\n",
              "\n",
              "    .colab-df-convert {\n",
              "      background-color: #E8F0FE;\n",
              "      border: none;\n",
              "      border-radius: 50%;\n",
              "      cursor: pointer;\n",
              "      display: none;\n",
              "      fill: #1967D2;\n",
              "      height: 32px;\n",
              "      padding: 0 0 0 0;\n",
              "      width: 32px;\n",
              "    }\n",
              "\n",
              "    .colab-df-convert:hover {\n",
              "      background-color: #E2EBFA;\n",
              "      box-shadow: 0px 1px 2px rgba(60, 64, 67, 0.3), 0px 1px 3px 1px rgba(60, 64, 67, 0.15);\n",
              "      fill: #174EA6;\n",
              "    }\n",
              "\n",
              "    [theme=dark] .colab-df-convert {\n",
              "      background-color: #3B4455;\n",
              "      fill: #D2E3FC;\n",
              "    }\n",
              "\n",
              "    [theme=dark] .colab-df-convert:hover {\n",
              "      background-color: #434B5C;\n",
              "      box-shadow: 0px 1px 3px 1px rgba(0, 0, 0, 0.15);\n",
              "      filter: drop-shadow(0px 1px 2px rgba(0, 0, 0, 0.3));\n",
              "      fill: #FFFFFF;\n",
              "    }\n",
              "  </style>\n",
              "\n",
              "      <script>\n",
              "        const buttonEl =\n",
              "          document.querySelector('#df-6b908816-4056-4579-82dd-688c5a18a150 button.colab-df-convert');\n",
              "        buttonEl.style.display =\n",
              "          google.colab.kernel.accessAllowed ? 'block' : 'none';\n",
              "\n",
              "        async function convertToInteractive(key) {\n",
              "          const element = document.querySelector('#df-6b908816-4056-4579-82dd-688c5a18a150');\n",
              "          const dataTable =\n",
              "            await google.colab.kernel.invokeFunction('convertToInteractive',\n",
              "                                                     [key], {});\n",
              "          if (!dataTable) return;\n",
              "\n",
              "          const docLinkHtml = 'Like what you see? Visit the ' +\n",
              "            '<a target=\"_blank\" href=https://colab.research.google.com/notebooks/data_table.ipynb>data table notebook</a>'\n",
              "            + ' to learn more about interactive tables.';\n",
              "          element.innerHTML = '';\n",
              "          dataTable['output_type'] = 'display_data';\n",
              "          await google.colab.output.renderOutput(dataTable, element);\n",
              "          const docLink = document.createElement('div');\n",
              "          docLink.innerHTML = docLinkHtml;\n",
              "          element.appendChild(docLink);\n",
              "        }\n",
              "      </script>\n",
              "    </div>\n",
              "  </div>\n",
              "  "
            ]
          },
          "metadata": {},
          "execution_count": 22
        }
      ]
    },
    {
      "cell_type": "markdown",
      "metadata": {
        "id": "fBzCrClAr6dx"
      },
      "source": [
        "### loan\n"
      ]
    },
    {
      "cell_type": "markdown",
      "source": [
        "1. Descarga de los datos"
      ],
      "metadata": {
        "id": "iJcOljJk3q2x"
      }
    },
    {
      "cell_type": "code",
      "source": [
        "!wget https://raw.githubusercontent.com/zhouxu-ds/loan-default-prediction/main/data/loan.asc"
      ],
      "metadata": {
        "id": "SOxC_law3Nzt",
        "colab": {
          "base_uri": "https://localhost:8080/"
        },
        "outputId": "c2dc396e-1396-4b24-f857-9f2d0ca1cce6"
      },
      "execution_count": null,
      "outputs": [
        {
          "output_type": "stream",
          "name": "stdout",
          "text": [
            "--2022-11-25 17:32:38--  https://raw.githubusercontent.com/zhouxu-ds/loan-default-prediction/main/data/loan.asc\n",
            "Resolving raw.githubusercontent.com (raw.githubusercontent.com)... 185.199.109.133, 185.199.110.133, 185.199.108.133, ...\n",
            "Connecting to raw.githubusercontent.com (raw.githubusercontent.com)|185.199.109.133|:443... connected.\n",
            "HTTP request sent, awaiting response... 200 OK\n",
            "Length: 27037 (26K) [text/plain]\n",
            "Saving to: ‘loan.asc’\n",
            "\n",
            "\rloan.asc              0%[                    ]       0  --.-KB/s               \rloan.asc            100%[===================>]  26.40K  --.-KB/s    in 0.001s  \n",
            "\n",
            "2022-11-25 17:32:39 (18.1 MB/s) - ‘loan.asc’ saved [27037/27037]\n",
            "\n"
          ]
        }
      ]
    },
    {
      "cell_type": "markdown",
      "source": [
        "**Una vez que tenemos descargados los datos, pasamos a crearlos. Importante en la descarga de datos, unicamenete debemos copiar, pegar y adaptar (en este caso) a lo que queremos cargar, en este caso los datos de Loan.** Es decir, unicamente modificaremos la ultima parte de la linea de código para cargar correctamente los datos que necesitamos, ya sean Loan (como es este caso), trans, credit card o permanent order.\n"
      ],
      "metadata": {
        "id": "8pl99oJjC2Wa"
      }
    },
    {
      "cell_type": "markdown",
      "source": [
        "2. Creación de la tabla\n"
      ],
      "metadata": {
        "id": "LJ4f0IVF3q2y"
      }
    },
    {
      "cell_type": "markdown",
      "source": [
        "Creamos la tabla. La linea de código que se debe ejecutar para la creación de la tabla es la siguiente:\n",
        "1. con.execute()\n",
        "2. () <- Se introduce CREATE TABLE **El nombre de la tabla** ()\n",
        "3. () <- Se comienza identificando la palabra clave, **Clave primaria INT PRIMARY KEY** y de seguido las demás variables que componen la tabla, especificando su \"naturaleza\".\n",
        "\n",
        "**Muy atento a los errores mas comunes: las comas, comillas dobles y simples, muy importante no mezclarlas, parentesis y las relaciones de las claves.**\n"
      ],
      "metadata": {
        "id": "dk3wPixaFjvv"
      }
    },
    {
      "cell_type": "code",
      "source": [
        "con.execute(\"CREATE TABLE LOAN (loan_id INT PRIMARY KEY, account_id INT, date INT, amount INT,\"  \n",
        "   + \" duration INT, payments REAL, status TEXT , \"\n",
        "   + \" FOREIGN KEY (account_id) REFERENCES ACCOUNT (account_id))\")"
      ],
      "metadata": {
        "colab": {
          "base_uri": "https://localhost:8080/"
        },
        "id": "DiQkWs4HDZsX",
        "outputId": "fa3a08aa-5182-4a56-fc53-30b5339ac234"
      },
      "execution_count": null,
      "outputs": [
        {
          "output_type": "execute_result",
          "data": {
            "text/plain": [
              "<sqlite3.Cursor at 0x7f783c204c00>"
            ]
          },
          "metadata": {},
          "execution_count": 24
        }
      ]
    },
    {
      "cell_type": "markdown",
      "source": [
        "3. Carga de los datos a la tabla\n"
      ],
      "metadata": {
        "id": "nW3tTy3N3q2z"
      }
    },
    {
      "cell_type": "code",
      "source": [
        "pd.read_csv('loan.asc', sep = \";\" ).to_sql('LOAN', con, if_exists='append', index = False)"
      ],
      "metadata": {
        "id": "6CKlZcE5HNBf"
      },
      "execution_count": null,
      "outputs": []
    },
    {
      "cell_type": "markdown",
      "source": [
        "4. Comprobar tabla"
      ],
      "metadata": {
        "id": "L42rMP453q2z"
      }
    },
    {
      "cell_type": "code",
      "source": [
        "pd.read_sql_query(\"SELECT * FROM LOAN LIMIT 10\", con)"
      ],
      "metadata": {
        "colab": {
          "base_uri": "https://localhost:8080/",
          "height": 354
        },
        "id": "w_zqLfkjHisq",
        "outputId": "1aed41c6-9d89-4d43-b142-d7bfbb211cd0"
      },
      "execution_count": null,
      "outputs": [
        {
          "output_type": "execute_result",
          "data": {
            "text/plain": [
              "   loan_id  account_id    date  amount  duration  payments status\n",
              "0     5314        1787  930705   96396        12    8033.0      B\n",
              "1     5316        1801  930711  165960        36    4610.0      A\n",
              "2     6863        9188  930728  127080        60    2118.0      A\n",
              "3     5325        1843  930803  105804        36    2939.0      A\n",
              "4     7240       11013  930906  274740        60    4579.0      A\n",
              "5     6687        8261  930913   87840        24    3660.0      A\n",
              "6     7284       11265  930915   52788        12    4399.0      A\n",
              "7     6111        5428  930924  174744        24    7281.0      B\n",
              "8     7235       10973  931013  154416        48    3217.0      A\n",
              "9     5997        4894  931104  117024        24    4876.0      A"
            ],
            "text/html": [
              "\n",
              "  <div id=\"df-9adb1fe8-dd7b-47fd-94c4-97eea262f295\">\n",
              "    <div class=\"colab-df-container\">\n",
              "      <div>\n",
              "<style scoped>\n",
              "    .dataframe tbody tr th:only-of-type {\n",
              "        vertical-align: middle;\n",
              "    }\n",
              "\n",
              "    .dataframe tbody tr th {\n",
              "        vertical-align: top;\n",
              "    }\n",
              "\n",
              "    .dataframe thead th {\n",
              "        text-align: right;\n",
              "    }\n",
              "</style>\n",
              "<table border=\"1\" class=\"dataframe\">\n",
              "  <thead>\n",
              "    <tr style=\"text-align: right;\">\n",
              "      <th></th>\n",
              "      <th>loan_id</th>\n",
              "      <th>account_id</th>\n",
              "      <th>date</th>\n",
              "      <th>amount</th>\n",
              "      <th>duration</th>\n",
              "      <th>payments</th>\n",
              "      <th>status</th>\n",
              "    </tr>\n",
              "  </thead>\n",
              "  <tbody>\n",
              "    <tr>\n",
              "      <th>0</th>\n",
              "      <td>5314</td>\n",
              "      <td>1787</td>\n",
              "      <td>930705</td>\n",
              "      <td>96396</td>\n",
              "      <td>12</td>\n",
              "      <td>8033.0</td>\n",
              "      <td>B</td>\n",
              "    </tr>\n",
              "    <tr>\n",
              "      <th>1</th>\n",
              "      <td>5316</td>\n",
              "      <td>1801</td>\n",
              "      <td>930711</td>\n",
              "      <td>165960</td>\n",
              "      <td>36</td>\n",
              "      <td>4610.0</td>\n",
              "      <td>A</td>\n",
              "    </tr>\n",
              "    <tr>\n",
              "      <th>2</th>\n",
              "      <td>6863</td>\n",
              "      <td>9188</td>\n",
              "      <td>930728</td>\n",
              "      <td>127080</td>\n",
              "      <td>60</td>\n",
              "      <td>2118.0</td>\n",
              "      <td>A</td>\n",
              "    </tr>\n",
              "    <tr>\n",
              "      <th>3</th>\n",
              "      <td>5325</td>\n",
              "      <td>1843</td>\n",
              "      <td>930803</td>\n",
              "      <td>105804</td>\n",
              "      <td>36</td>\n",
              "      <td>2939.0</td>\n",
              "      <td>A</td>\n",
              "    </tr>\n",
              "    <tr>\n",
              "      <th>4</th>\n",
              "      <td>7240</td>\n",
              "      <td>11013</td>\n",
              "      <td>930906</td>\n",
              "      <td>274740</td>\n",
              "      <td>60</td>\n",
              "      <td>4579.0</td>\n",
              "      <td>A</td>\n",
              "    </tr>\n",
              "    <tr>\n",
              "      <th>5</th>\n",
              "      <td>6687</td>\n",
              "      <td>8261</td>\n",
              "      <td>930913</td>\n",
              "      <td>87840</td>\n",
              "      <td>24</td>\n",
              "      <td>3660.0</td>\n",
              "      <td>A</td>\n",
              "    </tr>\n",
              "    <tr>\n",
              "      <th>6</th>\n",
              "      <td>7284</td>\n",
              "      <td>11265</td>\n",
              "      <td>930915</td>\n",
              "      <td>52788</td>\n",
              "      <td>12</td>\n",
              "      <td>4399.0</td>\n",
              "      <td>A</td>\n",
              "    </tr>\n",
              "    <tr>\n",
              "      <th>7</th>\n",
              "      <td>6111</td>\n",
              "      <td>5428</td>\n",
              "      <td>930924</td>\n",
              "      <td>174744</td>\n",
              "      <td>24</td>\n",
              "      <td>7281.0</td>\n",
              "      <td>B</td>\n",
              "    </tr>\n",
              "    <tr>\n",
              "      <th>8</th>\n",
              "      <td>7235</td>\n",
              "      <td>10973</td>\n",
              "      <td>931013</td>\n",
              "      <td>154416</td>\n",
              "      <td>48</td>\n",
              "      <td>3217.0</td>\n",
              "      <td>A</td>\n",
              "    </tr>\n",
              "    <tr>\n",
              "      <th>9</th>\n",
              "      <td>5997</td>\n",
              "      <td>4894</td>\n",
              "      <td>931104</td>\n",
              "      <td>117024</td>\n",
              "      <td>24</td>\n",
              "      <td>4876.0</td>\n",
              "      <td>A</td>\n",
              "    </tr>\n",
              "  </tbody>\n",
              "</table>\n",
              "</div>\n",
              "      <button class=\"colab-df-convert\" onclick=\"convertToInteractive('df-9adb1fe8-dd7b-47fd-94c4-97eea262f295')\"\n",
              "              title=\"Convert this dataframe to an interactive table.\"\n",
              "              style=\"display:none;\">\n",
              "        \n",
              "  <svg xmlns=\"http://www.w3.org/2000/svg\" height=\"24px\"viewBox=\"0 0 24 24\"\n",
              "       width=\"24px\">\n",
              "    <path d=\"M0 0h24v24H0V0z\" fill=\"none\"/>\n",
              "    <path d=\"M18.56 5.44l.94 2.06.94-2.06 2.06-.94-2.06-.94-.94-2.06-.94 2.06-2.06.94zm-11 1L8.5 8.5l.94-2.06 2.06-.94-2.06-.94L8.5 2.5l-.94 2.06-2.06.94zm10 10l.94 2.06.94-2.06 2.06-.94-2.06-.94-.94-2.06-.94 2.06-2.06.94z\"/><path d=\"M17.41 7.96l-1.37-1.37c-.4-.4-.92-.59-1.43-.59-.52 0-1.04.2-1.43.59L10.3 9.45l-7.72 7.72c-.78.78-.78 2.05 0 2.83L4 21.41c.39.39.9.59 1.41.59.51 0 1.02-.2 1.41-.59l7.78-7.78 2.81-2.81c.8-.78.8-2.07 0-2.86zM5.41 20L4 18.59l7.72-7.72 1.47 1.35L5.41 20z\"/>\n",
              "  </svg>\n",
              "      </button>\n",
              "      \n",
              "  <style>\n",
              "    .colab-df-container {\n",
              "      display:flex;\n",
              "      flex-wrap:wrap;\n",
              "      gap: 12px;\n",
              "    }\n",
              "\n",
              "    .colab-df-convert {\n",
              "      background-color: #E8F0FE;\n",
              "      border: none;\n",
              "      border-radius: 50%;\n",
              "      cursor: pointer;\n",
              "      display: none;\n",
              "      fill: #1967D2;\n",
              "      height: 32px;\n",
              "      padding: 0 0 0 0;\n",
              "      width: 32px;\n",
              "    }\n",
              "\n",
              "    .colab-df-convert:hover {\n",
              "      background-color: #E2EBFA;\n",
              "      box-shadow: 0px 1px 2px rgba(60, 64, 67, 0.3), 0px 1px 3px 1px rgba(60, 64, 67, 0.15);\n",
              "      fill: #174EA6;\n",
              "    }\n",
              "\n",
              "    [theme=dark] .colab-df-convert {\n",
              "      background-color: #3B4455;\n",
              "      fill: #D2E3FC;\n",
              "    }\n",
              "\n",
              "    [theme=dark] .colab-df-convert:hover {\n",
              "      background-color: #434B5C;\n",
              "      box-shadow: 0px 1px 3px 1px rgba(0, 0, 0, 0.15);\n",
              "      filter: drop-shadow(0px 1px 2px rgba(0, 0, 0, 0.3));\n",
              "      fill: #FFFFFF;\n",
              "    }\n",
              "  </style>\n",
              "\n",
              "      <script>\n",
              "        const buttonEl =\n",
              "          document.querySelector('#df-9adb1fe8-dd7b-47fd-94c4-97eea262f295 button.colab-df-convert');\n",
              "        buttonEl.style.display =\n",
              "          google.colab.kernel.accessAllowed ? 'block' : 'none';\n",
              "\n",
              "        async function convertToInteractive(key) {\n",
              "          const element = document.querySelector('#df-9adb1fe8-dd7b-47fd-94c4-97eea262f295');\n",
              "          const dataTable =\n",
              "            await google.colab.kernel.invokeFunction('convertToInteractive',\n",
              "                                                     [key], {});\n",
              "          if (!dataTable) return;\n",
              "\n",
              "          const docLinkHtml = 'Like what you see? Visit the ' +\n",
              "            '<a target=\"_blank\" href=https://colab.research.google.com/notebooks/data_table.ipynb>data table notebook</a>'\n",
              "            + ' to learn more about interactive tables.';\n",
              "          element.innerHTML = '';\n",
              "          dataTable['output_type'] = 'display_data';\n",
              "          await google.colab.output.renderOutput(dataTable, element);\n",
              "          const docLink = document.createElement('div');\n",
              "          docLink.innerHTML = docLinkHtml;\n",
              "          element.appendChild(docLink);\n",
              "        }\n",
              "      </script>\n",
              "    </div>\n",
              "  </div>\n",
              "  "
            ]
          },
          "metadata": {},
          "execution_count": 26
        }
      ]
    },
    {
      "cell_type": "markdown",
      "metadata": {
        "id": "L9LRuetTiAtN"
      },
      "source": [
        "### trans"
      ]
    },
    {
      "cell_type": "markdown",
      "source": [
        "Es la tabla más completa de toda la base de datos (mas completa = mas larga). Es buena opción repetirla varias veces para coger soltura."
      ],
      "metadata": {
        "id": "cds0nKb0BVU2"
      }
    },
    {
      "cell_type": "markdown",
      "source": [
        "1. Cargar los datos al entorno"
      ],
      "metadata": {
        "id": "jULiG9M6lG9i"
      }
    },
    {
      "cell_type": "markdown",
      "source": [
        "**Antes de empezar a crear la tabla trans, se debe, al igual que hemos hecho en las tablas anteriores, cargar los datos del entorno, esta vez marcando que queremos los datos de TRANS.**"
      ],
      "metadata": {
        "id": "-MMfxe-NHzBO"
      }
    },
    {
      "cell_type": "code",
      "source": [
        "!wget https://raw.githubusercontent.com/zhouxu-ds/loan-default-prediction/main/data/trans.asc"
      ],
      "metadata": {
        "colab": {
          "base_uri": "https://localhost:8080/"
        },
        "id": "UVveTM3AH8ea",
        "outputId": "90d0ebc4-a00b-48f3-ab32-5a0e4f5af9ed"
      },
      "execution_count": null,
      "outputs": [
        {
          "output_type": "stream",
          "name": "stdout",
          "text": [
            "--2022-11-28 20:52:34--  https://raw.githubusercontent.com/zhouxu-ds/loan-default-prediction/main/data/trans.asc\n",
            "Resolving raw.githubusercontent.com (raw.githubusercontent.com)... 185.199.108.133, 185.199.109.133, 185.199.110.133, ...\n",
            "Connecting to raw.githubusercontent.com (raw.githubusercontent.com)|185.199.108.133|:443... connected.\n",
            "HTTP request sent, awaiting response... 200 OK\n",
            "Length: 69406578 (66M) [text/plain]\n",
            "Saving to: ‘trans.asc’\n",
            "\n",
            "trans.asc           100%[===================>]  66.19M   216MB/s    in 0.3s    \n",
            "\n",
            "2022-11-28 20:52:35 (216 MB/s) - ‘trans.asc’ saved [69406578/69406578]\n",
            "\n"
          ]
        }
      ]
    },
    {
      "cell_type": "markdown",
      "source": [
        "2. Ejecutar el CREATE"
      ],
      "metadata": {
        "id": "CxXGvYSIlJw9"
      }
    },
    {
      "cell_type": "markdown",
      "source": [
        "**Creamos la tabla, con sus respectivas claves primarias y claves ajenas, además de todos los atributos correspondientes a la tabla TRANS.**"
      ],
      "metadata": {
        "id": "b3c2xSBPIK05"
      }
    },
    {
      "cell_type": "code",
      "source": [
        "con.execute('CREATE TABLE IF NOT EXISTS  TRANS (trans_id\tINT PRIMARY KEY, account_id\tINT, date INT, type TEXT, operation TEXT,' + \n",
        "  'amount REAL, balance REAL, k_symbol TEXT, bank TEXT, account INT, FOREIGN KEY (account_id) REFERENCES account (account_id))')\n",
        "con.commit()"
      ],
      "metadata": {
        "id": "kCl54TuLAg5A"
      },
      "execution_count": null,
      "outputs": []
    },
    {
      "cell_type": "markdown",
      "source": [
        "3. Cargar los datos en la tabla"
      ],
      "metadata": {
        "id": "GoYREst7lN1O"
      }
    },
    {
      "cell_type": "code",
      "source": [
        "pd.read_csv('trans.asc', sep = \";\" ).to_sql('TRANS', con, if_exists='append', index = False)"
      ],
      "metadata": {
        "id": "tdmklObGM3F4",
        "colab": {
          "base_uri": "https://localhost:8080/"
        },
        "outputId": "2331b03c-1ea8-4a86-9f33-faf87591dfb5"
      },
      "execution_count": null,
      "outputs": [
        {
          "output_type": "stream",
          "name": "stderr",
          "text": [
            "/usr/local/lib/python3.7/dist-packages/IPython/core/interactiveshell.py:3326: DtypeWarning: Columns (8) have mixed types.Specify dtype option on import or set low_memory=False.\n",
            "  exec(code_obj, self.user_global_ns, self.user_ns)\n"
          ]
        }
      ]
    },
    {
      "cell_type": "markdown",
      "source": [
        "4. Comprobar la carga de los datos"
      ],
      "metadata": {
        "id": "hpPtRYBylQRC"
      }
    },
    {
      "cell_type": "code",
      "source": [
        "pd.read_sql_query(\"SELECT * FROM TRANS LIMIT 10\", con)"
      ],
      "metadata": {
        "id": "vGe08DfyM5hK",
        "colab": {
          "base_uri": "https://localhost:8080/",
          "height": 374
        },
        "outputId": "2fc05a1c-2090-4000-a4dc-457119798408"
      },
      "execution_count": null,
      "outputs": [
        {
          "output_type": "execute_result",
          "data": {
            "text/plain": [
              "   trans_id  account_id    date    type operation  amount  balance k_symbol  \\\n",
              "0    695247        2378  930101  PRIJEM     VKLAD   700.0    700.0     None   \n",
              "1    171812         576  930101  PRIJEM     VKLAD   900.0    900.0     None   \n",
              "2    207264         704  930101  PRIJEM     VKLAD  1000.0   1000.0     None   \n",
              "3   1117247        3818  930101  PRIJEM     VKLAD   600.0    600.0     None   \n",
              "4    579373        1972  930102  PRIJEM     VKLAD   400.0    400.0     None   \n",
              "5    771035        2632  930102  PRIJEM     VKLAD  1100.0   1100.0     None   \n",
              "6    452728        1539  930103  PRIJEM     VKLAD   600.0    600.0     None   \n",
              "7    725751        2484  930103  PRIJEM     VKLAD  1100.0   1100.0     None   \n",
              "8    497211        1695  930103  PRIJEM     VKLAD   200.0    200.0     None   \n",
              "9    232960         793  930103  PRIJEM     VKLAD   800.0    800.0     None   \n",
              "\n",
              "   bank account  \n",
              "0  None    None  \n",
              "1  None    None  \n",
              "2  None    None  \n",
              "3  None    None  \n",
              "4  None    None  \n",
              "5  None    None  \n",
              "6  None    None  \n",
              "7  None    None  \n",
              "8  None    None  \n",
              "9  None    None  "
            ],
            "text/html": [
              "\n",
              "  <div id=\"df-b9576ca9-a0d2-4aea-8c43-05c264b9d992\">\n",
              "    <div class=\"colab-df-container\">\n",
              "      <div>\n",
              "<style scoped>\n",
              "    .dataframe tbody tr th:only-of-type {\n",
              "        vertical-align: middle;\n",
              "    }\n",
              "\n",
              "    .dataframe tbody tr th {\n",
              "        vertical-align: top;\n",
              "    }\n",
              "\n",
              "    .dataframe thead th {\n",
              "        text-align: right;\n",
              "    }\n",
              "</style>\n",
              "<table border=\"1\" class=\"dataframe\">\n",
              "  <thead>\n",
              "    <tr style=\"text-align: right;\">\n",
              "      <th></th>\n",
              "      <th>trans_id</th>\n",
              "      <th>account_id</th>\n",
              "      <th>date</th>\n",
              "      <th>type</th>\n",
              "      <th>operation</th>\n",
              "      <th>amount</th>\n",
              "      <th>balance</th>\n",
              "      <th>k_symbol</th>\n",
              "      <th>bank</th>\n",
              "      <th>account</th>\n",
              "    </tr>\n",
              "  </thead>\n",
              "  <tbody>\n",
              "    <tr>\n",
              "      <th>0</th>\n",
              "      <td>695247</td>\n",
              "      <td>2378</td>\n",
              "      <td>930101</td>\n",
              "      <td>PRIJEM</td>\n",
              "      <td>VKLAD</td>\n",
              "      <td>700.0</td>\n",
              "      <td>700.0</td>\n",
              "      <td>None</td>\n",
              "      <td>None</td>\n",
              "      <td>None</td>\n",
              "    </tr>\n",
              "    <tr>\n",
              "      <th>1</th>\n",
              "      <td>171812</td>\n",
              "      <td>576</td>\n",
              "      <td>930101</td>\n",
              "      <td>PRIJEM</td>\n",
              "      <td>VKLAD</td>\n",
              "      <td>900.0</td>\n",
              "      <td>900.0</td>\n",
              "      <td>None</td>\n",
              "      <td>None</td>\n",
              "      <td>None</td>\n",
              "    </tr>\n",
              "    <tr>\n",
              "      <th>2</th>\n",
              "      <td>207264</td>\n",
              "      <td>704</td>\n",
              "      <td>930101</td>\n",
              "      <td>PRIJEM</td>\n",
              "      <td>VKLAD</td>\n",
              "      <td>1000.0</td>\n",
              "      <td>1000.0</td>\n",
              "      <td>None</td>\n",
              "      <td>None</td>\n",
              "      <td>None</td>\n",
              "    </tr>\n",
              "    <tr>\n",
              "      <th>3</th>\n",
              "      <td>1117247</td>\n",
              "      <td>3818</td>\n",
              "      <td>930101</td>\n",
              "      <td>PRIJEM</td>\n",
              "      <td>VKLAD</td>\n",
              "      <td>600.0</td>\n",
              "      <td>600.0</td>\n",
              "      <td>None</td>\n",
              "      <td>None</td>\n",
              "      <td>None</td>\n",
              "    </tr>\n",
              "    <tr>\n",
              "      <th>4</th>\n",
              "      <td>579373</td>\n",
              "      <td>1972</td>\n",
              "      <td>930102</td>\n",
              "      <td>PRIJEM</td>\n",
              "      <td>VKLAD</td>\n",
              "      <td>400.0</td>\n",
              "      <td>400.0</td>\n",
              "      <td>None</td>\n",
              "      <td>None</td>\n",
              "      <td>None</td>\n",
              "    </tr>\n",
              "    <tr>\n",
              "      <th>5</th>\n",
              "      <td>771035</td>\n",
              "      <td>2632</td>\n",
              "      <td>930102</td>\n",
              "      <td>PRIJEM</td>\n",
              "      <td>VKLAD</td>\n",
              "      <td>1100.0</td>\n",
              "      <td>1100.0</td>\n",
              "      <td>None</td>\n",
              "      <td>None</td>\n",
              "      <td>None</td>\n",
              "    </tr>\n",
              "    <tr>\n",
              "      <th>6</th>\n",
              "      <td>452728</td>\n",
              "      <td>1539</td>\n",
              "      <td>930103</td>\n",
              "      <td>PRIJEM</td>\n",
              "      <td>VKLAD</td>\n",
              "      <td>600.0</td>\n",
              "      <td>600.0</td>\n",
              "      <td>None</td>\n",
              "      <td>None</td>\n",
              "      <td>None</td>\n",
              "    </tr>\n",
              "    <tr>\n",
              "      <th>7</th>\n",
              "      <td>725751</td>\n",
              "      <td>2484</td>\n",
              "      <td>930103</td>\n",
              "      <td>PRIJEM</td>\n",
              "      <td>VKLAD</td>\n",
              "      <td>1100.0</td>\n",
              "      <td>1100.0</td>\n",
              "      <td>None</td>\n",
              "      <td>None</td>\n",
              "      <td>None</td>\n",
              "    </tr>\n",
              "    <tr>\n",
              "      <th>8</th>\n",
              "      <td>497211</td>\n",
              "      <td>1695</td>\n",
              "      <td>930103</td>\n",
              "      <td>PRIJEM</td>\n",
              "      <td>VKLAD</td>\n",
              "      <td>200.0</td>\n",
              "      <td>200.0</td>\n",
              "      <td>None</td>\n",
              "      <td>None</td>\n",
              "      <td>None</td>\n",
              "    </tr>\n",
              "    <tr>\n",
              "      <th>9</th>\n",
              "      <td>232960</td>\n",
              "      <td>793</td>\n",
              "      <td>930103</td>\n",
              "      <td>PRIJEM</td>\n",
              "      <td>VKLAD</td>\n",
              "      <td>800.0</td>\n",
              "      <td>800.0</td>\n",
              "      <td>None</td>\n",
              "      <td>None</td>\n",
              "      <td>None</td>\n",
              "    </tr>\n",
              "  </tbody>\n",
              "</table>\n",
              "</div>\n",
              "      <button class=\"colab-df-convert\" onclick=\"convertToInteractive('df-b9576ca9-a0d2-4aea-8c43-05c264b9d992')\"\n",
              "              title=\"Convert this dataframe to an interactive table.\"\n",
              "              style=\"display:none;\">\n",
              "        \n",
              "  <svg xmlns=\"http://www.w3.org/2000/svg\" height=\"24px\"viewBox=\"0 0 24 24\"\n",
              "       width=\"24px\">\n",
              "    <path d=\"M0 0h24v24H0V0z\" fill=\"none\"/>\n",
              "    <path d=\"M18.56 5.44l.94 2.06.94-2.06 2.06-.94-2.06-.94-.94-2.06-.94 2.06-2.06.94zm-11 1L8.5 8.5l.94-2.06 2.06-.94-2.06-.94L8.5 2.5l-.94 2.06-2.06.94zm10 10l.94 2.06.94-2.06 2.06-.94-2.06-.94-.94-2.06-.94 2.06-2.06.94z\"/><path d=\"M17.41 7.96l-1.37-1.37c-.4-.4-.92-.59-1.43-.59-.52 0-1.04.2-1.43.59L10.3 9.45l-7.72 7.72c-.78.78-.78 2.05 0 2.83L4 21.41c.39.39.9.59 1.41.59.51 0 1.02-.2 1.41-.59l7.78-7.78 2.81-2.81c.8-.78.8-2.07 0-2.86zM5.41 20L4 18.59l7.72-7.72 1.47 1.35L5.41 20z\"/>\n",
              "  </svg>\n",
              "      </button>\n",
              "      \n",
              "  <style>\n",
              "    .colab-df-container {\n",
              "      display:flex;\n",
              "      flex-wrap:wrap;\n",
              "      gap: 12px;\n",
              "    }\n",
              "\n",
              "    .colab-df-convert {\n",
              "      background-color: #E8F0FE;\n",
              "      border: none;\n",
              "      border-radius: 50%;\n",
              "      cursor: pointer;\n",
              "      display: none;\n",
              "      fill: #1967D2;\n",
              "      height: 32px;\n",
              "      padding: 0 0 0 0;\n",
              "      width: 32px;\n",
              "    }\n",
              "\n",
              "    .colab-df-convert:hover {\n",
              "      background-color: #E2EBFA;\n",
              "      box-shadow: 0px 1px 2px rgba(60, 64, 67, 0.3), 0px 1px 3px 1px rgba(60, 64, 67, 0.15);\n",
              "      fill: #174EA6;\n",
              "    }\n",
              "\n",
              "    [theme=dark] .colab-df-convert {\n",
              "      background-color: #3B4455;\n",
              "      fill: #D2E3FC;\n",
              "    }\n",
              "\n",
              "    [theme=dark] .colab-df-convert:hover {\n",
              "      background-color: #434B5C;\n",
              "      box-shadow: 0px 1px 3px 1px rgba(0, 0, 0, 0.15);\n",
              "      filter: drop-shadow(0px 1px 2px rgba(0, 0, 0, 0.3));\n",
              "      fill: #FFFFFF;\n",
              "    }\n",
              "  </style>\n",
              "\n",
              "      <script>\n",
              "        const buttonEl =\n",
              "          document.querySelector('#df-b9576ca9-a0d2-4aea-8c43-05c264b9d992 button.colab-df-convert');\n",
              "        buttonEl.style.display =\n",
              "          google.colab.kernel.accessAllowed ? 'block' : 'none';\n",
              "\n",
              "        async function convertToInteractive(key) {\n",
              "          const element = document.querySelector('#df-b9576ca9-a0d2-4aea-8c43-05c264b9d992');\n",
              "          const dataTable =\n",
              "            await google.colab.kernel.invokeFunction('convertToInteractive',\n",
              "                                                     [key], {});\n",
              "          if (!dataTable) return;\n",
              "\n",
              "          const docLinkHtml = 'Like what you see? Visit the ' +\n",
              "            '<a target=\"_blank\" href=https://colab.research.google.com/notebooks/data_table.ipynb>data table notebook</a>'\n",
              "            + ' to learn more about interactive tables.';\n",
              "          element.innerHTML = '';\n",
              "          dataTable['output_type'] = 'display_data';\n",
              "          await google.colab.output.renderOutput(dataTable, element);\n",
              "          const docLink = document.createElement('div');\n",
              "          docLink.innerHTML = docLinkHtml;\n",
              "          element.appendChild(docLink);\n",
              "        }\n",
              "      </script>\n",
              "    </div>\n",
              "  </div>\n",
              "  "
            ]
          },
          "metadata": {},
          "execution_count": 13
        }
      ]
    },
    {
      "cell_type": "markdown",
      "source": [
        "El código que se pone a continuación es para eliminar la tabla creada anteriormente, en este caso la tabla de TRANS.\n"
      ],
      "metadata": {
        "id": "6lvhDoJUA8x9"
      }
    },
    {
      "cell_type": "code",
      "source": [
        "con.execute(\"DROP TABLE TRANS\");\n",
        "con.commit()"
      ],
      "metadata": {
        "id": "pnyQTAya8pGb",
        "colab": {
          "base_uri": "https://localhost:8080/",
          "height": 199
        },
        "outputId": "837ff504-d2e6-4ec9-edc2-1f573d46073c"
      },
      "execution_count": null,
      "outputs": [
        {
          "output_type": "error",
          "ename": "NameError",
          "evalue": "ignored",
          "traceback": [
            "\u001b[0;31m---------------------------------------------------------------------------\u001b[0m",
            "\u001b[0;31mNameError\u001b[0m                                 Traceback (most recent call last)",
            "\u001b[0;32m<ipython-input-1-c6346a743d04>\u001b[0m in \u001b[0;36m<module>\u001b[0;34m\u001b[0m\n\u001b[0;32m----> 1\u001b[0;31m \u001b[0mcon\u001b[0m\u001b[0;34m.\u001b[0m\u001b[0mexecute\u001b[0m\u001b[0;34m(\u001b[0m\u001b[0;34m\"DROP TABLE TRANS\"\u001b[0m\u001b[0;34m)\u001b[0m\u001b[0;34m;\u001b[0m\u001b[0;34m\u001b[0m\u001b[0;34m\u001b[0m\u001b[0m\n\u001b[0m\u001b[1;32m      2\u001b[0m \u001b[0mcon\u001b[0m\u001b[0;34m.\u001b[0m\u001b[0mcommit\u001b[0m\u001b[0;34m(\u001b[0m\u001b[0;34m)\u001b[0m\u001b[0;34m\u001b[0m\u001b[0;34m\u001b[0m\u001b[0m\n",
            "\u001b[0;31mNameError\u001b[0m: name 'con' is not defined"
          ]
        }
      ]
    },
    {
      "cell_type": "markdown",
      "metadata": {
        "id": "icvsgllbqmyJ"
      },
      "source": [
        "### credit card"
      ]
    },
    {
      "cell_type": "markdown",
      "source": [
        "1. Obtener los datos "
      ],
      "metadata": {
        "id": "MWrI_MabLTCm"
      }
    },
    {
      "cell_type": "code",
      "source": [
        "!wget https://raw.githubusercontent.com/zhouxu-ds/loan-default-prediction/main/data/card.asc"
      ],
      "metadata": {
        "colab": {
          "base_uri": "https://localhost:8080/"
        },
        "id": "jEd6a5WM6g-c",
        "outputId": "e42da6b2-b7cf-4922-fd63-561a53e7f653"
      },
      "execution_count": null,
      "outputs": [
        {
          "output_type": "stream",
          "name": "stdout",
          "text": [
            "--2022-11-28 20:58:22--  https://raw.githubusercontent.com/zhouxu-ds/loan-default-prediction/main/data/card.asc\n",
            "Resolving raw.githubusercontent.com (raw.githubusercontent.com)... 185.199.108.133, 185.199.109.133, 185.199.110.133, ...\n",
            "Connecting to raw.githubusercontent.com (raw.githubusercontent.com)|185.199.108.133|:443... connected.\n",
            "HTTP request sent, awaiting response... 200 OK\n",
            "Length: 31588 (31K) [text/plain]\n",
            "Saving to: ‘card.asc.1’\n",
            "\n",
            "\rcard.asc.1            0%[                    ]       0  --.-KB/s               \rcard.asc.1          100%[===================>]  30.85K  --.-KB/s    in 0.002s  \n",
            "\n",
            "2022-11-28 20:58:22 (12.4 MB/s) - ‘card.asc.1’ saved [31588/31588]\n",
            "\n"
          ]
        }
      ]
    },
    {
      "cell_type": "markdown",
      "source": [
        "2. Ejecutar el CREATE"
      ],
      "metadata": {
        "id": "2Lxt1SxdLU0m"
      }
    },
    {
      "cell_type": "code",
      "source": [
        "con.execute(\"CREATE TABLE CREDIT_CARD (card_id INT PRIMARY KEY,disp_id integer,\ttype varchar,\tissued varchar,\"\n",
        "  + \"FOREIGN KEY (disp_id) REFERENCES DISPOSITION (disp_id))\");\n",
        "con.commit()"
      ],
      "metadata": {
        "id": "qZHpMhjy7EEP"
      },
      "execution_count": null,
      "outputs": []
    },
    {
      "cell_type": "markdown",
      "source": [
        "3. Cargar los datos"
      ],
      "metadata": {
        "id": "lpa2rp0jLYRk"
      }
    },
    {
      "cell_type": "code",
      "source": [
        "pd.read_csv('card.asc', sep = \";\" ).to_sql('CREDIT_CARD', con, if_exists='append', index = False)"
      ],
      "metadata": {
        "id": "QkbTwbPAB1zv"
      },
      "execution_count": null,
      "outputs": []
    },
    {
      "cell_type": "markdown",
      "source": [
        "4. Comprobar la creación y la carga\n"
      ],
      "metadata": {
        "id": "JeuT8mvKLk4s"
      }
    },
    {
      "cell_type": "code",
      "source": [
        "pd.read_sql_query('SELECT * FROM CREDIT_CARD LIMIT 10', con)"
      ],
      "metadata": {
        "id": "v0jGUTYkB2fE"
      },
      "execution_count": null,
      "outputs": []
    },
    {
      "cell_type": "code",
      "source": [
        "con.execute(\"DROP TABLE CREDIT_CARD\");\n",
        "con.commit()"
      ],
      "metadata": {
        "id": "d2wmwdNYCBH-"
      },
      "execution_count": null,
      "outputs": []
    },
    {
      "cell_type": "markdown",
      "source": [
        "NOTA: Por ciertos errores he introducido de nuevo la función de borrar la tabla, no es necesario realizar esto siempre."
      ],
      "metadata": {
        "id": "D390dRFrCOAo"
      }
    },
    {
      "cell_type": "markdown",
      "metadata": {
        "id": "MPPFN7lGsxi3"
      },
      "source": [
        "### permanent order"
      ]
    },
    {
      "cell_type": "markdown",
      "source": [
        "# Nueva sección"
      ],
      "metadata": {
        "id": "2NRTW2U2DRFN"
      }
    },
    {
      "cell_type": "markdown",
      "source": [
        "1. Descarga de los datos"
      ],
      "metadata": {
        "id": "dEhKMCcfl6IR"
      }
    },
    {
      "cell_type": "code",
      "source": [
        "!wget https://raw.githubusercontent.com/zhouxu-ds/loan-default-prediction/main/data/order.asc"
      ],
      "metadata": {
        "colab": {
          "base_uri": "https://localhost:8080/"
        },
        "id": "WBwg_IBaBnCF",
        "outputId": "f3e07098-7c5f-40c1-9038-d4a7f33a2a36"
      },
      "execution_count": null,
      "outputs": [
        {
          "output_type": "stream",
          "name": "stdout",
          "text": [
            "--2022-11-28 20:56:28--  https://raw.githubusercontent.com/zhouxu-ds/loan-default-prediction/main/data/order.asc\n",
            "Resolving raw.githubusercontent.com (raw.githubusercontent.com)... 185.199.108.133, 185.199.109.133, 185.199.110.133, ...\n",
            "Connecting to raw.githubusercontent.com (raw.githubusercontent.com)|185.199.108.133|:443... connected.\n",
            "HTTP request sent, awaiting response... 200 OK\n",
            "Length: 273800 (267K) [text/plain]\n",
            "Saving to: ‘order.asc’\n",
            "\n",
            "\rorder.asc             0%[                    ]       0  --.-KB/s               \rorder.asc           100%[===================>] 267.38K  --.-KB/s    in 0.03s   \n",
            "\n",
            "2022-11-28 20:56:28 (8.23 MB/s) - ‘order.asc’ saved [273800/273800]\n",
            "\n"
          ]
        }
      ]
    },
    {
      "cell_type": "markdown",
      "source": [
        "2. Creación de la tabla\n"
      ],
      "metadata": {
        "id": "GN91ZMVcl8G8"
      }
    },
    {
      "cell_type": "code",
      "source": [
        "con.execute(\"CREATE TABLE PERMANENT_ORDER (order_id INT,account_id INT,\tbank_to varchar, \"\n",
        "\t\"account_to varchar, \tamount decimal,\tk_symbol varchar,\"\n",
        "  \"FOREIGN KEY (account_id) REFERENCES account (account_id))\")\n",
        "con.commit()"
      ],
      "metadata": {
        "id": "iZRccdqVBpAv"
      },
      "execution_count": null,
      "outputs": []
    },
    {
      "cell_type": "markdown",
      "source": [
        "3. Carga de los datos a la tabla\n"
      ],
      "metadata": {
        "id": "fUa_7hoCl-E8"
      }
    },
    {
      "cell_type": "code",
      "source": [
        "pd.read_csv('order.asc', sep = \";\" ).to_sql('PERMANENT_ORDER', con, if_exists='append', index = False)\n"
      ],
      "metadata": {
        "id": "UX8ZKmySBrNP"
      },
      "execution_count": null,
      "outputs": []
    },
    {
      "cell_type": "markdown",
      "source": [
        "4. Comprobar tabla"
      ],
      "metadata": {
        "id": "NYb67gHAmCqp"
      }
    },
    {
      "cell_type": "code",
      "source": [
        "pd.read_sql_query('SELECT * FROM PERMANENT_ORDER LIMIT 10', con)\n"
      ],
      "metadata": {
        "colab": {
          "base_uri": "https://localhost:8080/",
          "height": 374
        },
        "id": "imb_1J0SBtha",
        "outputId": "3d2c5429-fb97-47e7-fd48-decd8cd190e4"
      },
      "execution_count": null,
      "outputs": [
        {
          "output_type": "execute_result",
          "data": {
            "text/plain": [
              "   order_id  account_id bank_to account_to  amount  k_symbol\n",
              "0     29401           1      YZ   87144583  2452.0      SIPO\n",
              "1     29402           2      ST   89597016  3372.7      UVER\n",
              "2     29403           2      QR   13943797  7266.0      SIPO\n",
              "3     29404           3      WX   83084338  1135.0      SIPO\n",
              "4     29405           3      CD   24485939   327.0          \n",
              "5     29406           3      AB   59972357  3539.0  POJISTNE\n",
              "6     29407           4      UV   26693541  2078.0      SIPO\n",
              "7     29408           4      UV    5848086  1285.0      SIPO\n",
              "8     29409           5      GH   37390208  2668.0      SIPO\n",
              "9     29410           6      AB   44486999  3954.0      SIPO"
            ],
            "text/html": [
              "\n",
              "  <div id=\"df-0bbe8f6d-f930-4115-be32-42273f36274a\">\n",
              "    <div class=\"colab-df-container\">\n",
              "      <div>\n",
              "<style scoped>\n",
              "    .dataframe tbody tr th:only-of-type {\n",
              "        vertical-align: middle;\n",
              "    }\n",
              "\n",
              "    .dataframe tbody tr th {\n",
              "        vertical-align: top;\n",
              "    }\n",
              "\n",
              "    .dataframe thead th {\n",
              "        text-align: right;\n",
              "    }\n",
              "</style>\n",
              "<table border=\"1\" class=\"dataframe\">\n",
              "  <thead>\n",
              "    <tr style=\"text-align: right;\">\n",
              "      <th></th>\n",
              "      <th>order_id</th>\n",
              "      <th>account_id</th>\n",
              "      <th>bank_to</th>\n",
              "      <th>account_to</th>\n",
              "      <th>amount</th>\n",
              "      <th>k_symbol</th>\n",
              "    </tr>\n",
              "  </thead>\n",
              "  <tbody>\n",
              "    <tr>\n",
              "      <th>0</th>\n",
              "      <td>29401</td>\n",
              "      <td>1</td>\n",
              "      <td>YZ</td>\n",
              "      <td>87144583</td>\n",
              "      <td>2452.0</td>\n",
              "      <td>SIPO</td>\n",
              "    </tr>\n",
              "    <tr>\n",
              "      <th>1</th>\n",
              "      <td>29402</td>\n",
              "      <td>2</td>\n",
              "      <td>ST</td>\n",
              "      <td>89597016</td>\n",
              "      <td>3372.7</td>\n",
              "      <td>UVER</td>\n",
              "    </tr>\n",
              "    <tr>\n",
              "      <th>2</th>\n",
              "      <td>29403</td>\n",
              "      <td>2</td>\n",
              "      <td>QR</td>\n",
              "      <td>13943797</td>\n",
              "      <td>7266.0</td>\n",
              "      <td>SIPO</td>\n",
              "    </tr>\n",
              "    <tr>\n",
              "      <th>3</th>\n",
              "      <td>29404</td>\n",
              "      <td>3</td>\n",
              "      <td>WX</td>\n",
              "      <td>83084338</td>\n",
              "      <td>1135.0</td>\n",
              "      <td>SIPO</td>\n",
              "    </tr>\n",
              "    <tr>\n",
              "      <th>4</th>\n",
              "      <td>29405</td>\n",
              "      <td>3</td>\n",
              "      <td>CD</td>\n",
              "      <td>24485939</td>\n",
              "      <td>327.0</td>\n",
              "      <td></td>\n",
              "    </tr>\n",
              "    <tr>\n",
              "      <th>5</th>\n",
              "      <td>29406</td>\n",
              "      <td>3</td>\n",
              "      <td>AB</td>\n",
              "      <td>59972357</td>\n",
              "      <td>3539.0</td>\n",
              "      <td>POJISTNE</td>\n",
              "    </tr>\n",
              "    <tr>\n",
              "      <th>6</th>\n",
              "      <td>29407</td>\n",
              "      <td>4</td>\n",
              "      <td>UV</td>\n",
              "      <td>26693541</td>\n",
              "      <td>2078.0</td>\n",
              "      <td>SIPO</td>\n",
              "    </tr>\n",
              "    <tr>\n",
              "      <th>7</th>\n",
              "      <td>29408</td>\n",
              "      <td>4</td>\n",
              "      <td>UV</td>\n",
              "      <td>5848086</td>\n",
              "      <td>1285.0</td>\n",
              "      <td>SIPO</td>\n",
              "    </tr>\n",
              "    <tr>\n",
              "      <th>8</th>\n",
              "      <td>29409</td>\n",
              "      <td>5</td>\n",
              "      <td>GH</td>\n",
              "      <td>37390208</td>\n",
              "      <td>2668.0</td>\n",
              "      <td>SIPO</td>\n",
              "    </tr>\n",
              "    <tr>\n",
              "      <th>9</th>\n",
              "      <td>29410</td>\n",
              "      <td>6</td>\n",
              "      <td>AB</td>\n",
              "      <td>44486999</td>\n",
              "      <td>3954.0</td>\n",
              "      <td>SIPO</td>\n",
              "    </tr>\n",
              "  </tbody>\n",
              "</table>\n",
              "</div>\n",
              "      <button class=\"colab-df-convert\" onclick=\"convertToInteractive('df-0bbe8f6d-f930-4115-be32-42273f36274a')\"\n",
              "              title=\"Convert this dataframe to an interactive table.\"\n",
              "              style=\"display:none;\">\n",
              "        \n",
              "  <svg xmlns=\"http://www.w3.org/2000/svg\" height=\"24px\"viewBox=\"0 0 24 24\"\n",
              "       width=\"24px\">\n",
              "    <path d=\"M0 0h24v24H0V0z\" fill=\"none\"/>\n",
              "    <path d=\"M18.56 5.44l.94 2.06.94-2.06 2.06-.94-2.06-.94-.94-2.06-.94 2.06-2.06.94zm-11 1L8.5 8.5l.94-2.06 2.06-.94-2.06-.94L8.5 2.5l-.94 2.06-2.06.94zm10 10l.94 2.06.94-2.06 2.06-.94-2.06-.94-.94-2.06-.94 2.06-2.06.94z\"/><path d=\"M17.41 7.96l-1.37-1.37c-.4-.4-.92-.59-1.43-.59-.52 0-1.04.2-1.43.59L10.3 9.45l-7.72 7.72c-.78.78-.78 2.05 0 2.83L4 21.41c.39.39.9.59 1.41.59.51 0 1.02-.2 1.41-.59l7.78-7.78 2.81-2.81c.8-.78.8-2.07 0-2.86zM5.41 20L4 18.59l7.72-7.72 1.47 1.35L5.41 20z\"/>\n",
              "  </svg>\n",
              "      </button>\n",
              "      \n",
              "  <style>\n",
              "    .colab-df-container {\n",
              "      display:flex;\n",
              "      flex-wrap:wrap;\n",
              "      gap: 12px;\n",
              "    }\n",
              "\n",
              "    .colab-df-convert {\n",
              "      background-color: #E8F0FE;\n",
              "      border: none;\n",
              "      border-radius: 50%;\n",
              "      cursor: pointer;\n",
              "      display: none;\n",
              "      fill: #1967D2;\n",
              "      height: 32px;\n",
              "      padding: 0 0 0 0;\n",
              "      width: 32px;\n",
              "    }\n",
              "\n",
              "    .colab-df-convert:hover {\n",
              "      background-color: #E2EBFA;\n",
              "      box-shadow: 0px 1px 2px rgba(60, 64, 67, 0.3), 0px 1px 3px 1px rgba(60, 64, 67, 0.15);\n",
              "      fill: #174EA6;\n",
              "    }\n",
              "\n",
              "    [theme=dark] .colab-df-convert {\n",
              "      background-color: #3B4455;\n",
              "      fill: #D2E3FC;\n",
              "    }\n",
              "\n",
              "    [theme=dark] .colab-df-convert:hover {\n",
              "      background-color: #434B5C;\n",
              "      box-shadow: 0px 1px 3px 1px rgba(0, 0, 0, 0.15);\n",
              "      filter: drop-shadow(0px 1px 2px rgba(0, 0, 0, 0.3));\n",
              "      fill: #FFFFFF;\n",
              "    }\n",
              "  </style>\n",
              "\n",
              "      <script>\n",
              "        const buttonEl =\n",
              "          document.querySelector('#df-0bbe8f6d-f930-4115-be32-42273f36274a button.colab-df-convert');\n",
              "        buttonEl.style.display =\n",
              "          google.colab.kernel.accessAllowed ? 'block' : 'none';\n",
              "\n",
              "        async function convertToInteractive(key) {\n",
              "          const element = document.querySelector('#df-0bbe8f6d-f930-4115-be32-42273f36274a');\n",
              "          const dataTable =\n",
              "            await google.colab.kernel.invokeFunction('convertToInteractive',\n",
              "                                                     [key], {});\n",
              "          if (!dataTable) return;\n",
              "\n",
              "          const docLinkHtml = 'Like what you see? Visit the ' +\n",
              "            '<a target=\"_blank\" href=https://colab.research.google.com/notebooks/data_table.ipynb>data table notebook</a>'\n",
              "            + ' to learn more about interactive tables.';\n",
              "          element.innerHTML = '';\n",
              "          dataTable['output_type'] = 'display_data';\n",
              "          await google.colab.output.renderOutput(dataTable, element);\n",
              "          const docLink = document.createElement('div');\n",
              "          docLink.innerHTML = docLinkHtml;\n",
              "          element.appendChild(docLink);\n",
              "        }\n",
              "      </script>\n",
              "    </div>\n",
              "  </div>\n",
              "  "
            ]
          },
          "metadata": {},
          "execution_count": 17
        }
      ]
    }
  ]
}